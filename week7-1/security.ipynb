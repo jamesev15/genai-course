{
 "cells": [
  {
   "cell_type": "code",
   "execution_count": 1,
   "metadata": {},
   "outputs": [
    {
     "data": {
      "text/plain": [
       "True"
      ]
     },
     "execution_count": 1,
     "metadata": {},
     "output_type": "execute_result"
    }
   ],
   "source": [
    "from dotenv import load_dotenv\n",
    "\n",
    "load_dotenv()"
   ]
  },
  {
   "cell_type": "code",
   "execution_count": 2,
   "metadata": {},
   "outputs": [
    {
     "name": "stderr",
     "output_type": "stream",
     "text": [
      "/Users/james/Documents/idat/genai-course/.security/lib/python3.10/site-packages/tqdm/auto.py:21: TqdmWarning: IProgress not found. Please update jupyter and ipywidgets. See https://ipywidgets.readthedocs.io/en/stable/user_install.html\n",
      "  from .autonotebook import tqdm as notebook_tqdm\n"
     ]
    },
    {
     "name": "stdout",
     "output_type": "stream",
     "text": [
      "\u001b[2m2025-03-03 18:09:10\u001b[0m [\u001b[32m\u001b[1mdebug    \u001b[0m] \u001b[1mNo entity types provided, using default\u001b[0m \u001b[36mdefault_entities\u001b[0m=\u001b[35m['CREDIT_CARD', 'CRYPTO', 'EMAIL_ADDRESS', 'IBAN_CODE', 'IP_ADDRESS', 'PERSON', 'PHONE_NUMBER', 'US_SSN', 'US_BANK_NUMBER', 'CREDIT_CARD_RE', 'UUID', 'EMAIL_ADDRESS_RE', 'US_SSN_RE']\u001b[0m\n",
      "\u001b[2m2025-03-03 18:09:11\u001b[0m [\u001b[32m\u001b[1mdebug    \u001b[0m] \u001b[1mInitialized NER model         \u001b[0m \u001b[36mdevice\u001b[0m=\u001b[35mdevice(type='mps')\u001b[0m \u001b[36mmodel\u001b[0m=\u001b[35mModel(path='Isotonic/deberta-v3-base_finetuned_ai4privacy_v2', subfolder='', revision='9ea992753ab2686be4a8f64605ccc7be197ad794', onnx_path='Isotonic/deberta-v3-base_finetuned_ai4privacy_v2', onnx_revision='9ea992753ab2686be4a8f64605ccc7be197ad794', onnx_subfolder='onnx', onnx_filename='model.onnx', kwargs={}, pipeline_kwargs={'batch_size': 1, 'device': device(type='mps'), 'aggregation_strategy': 'simple'}, tokenizer_kwargs={'model_input_names': ['input_ids', 'attention_mask']})\u001b[0m\n"
     ]
    },
    {
     "name": "stderr",
     "output_type": "stream",
     "text": [
      "Device set to use mps\n"
     ]
    },
    {
     "name": "stdout",
     "output_type": "stream",
     "text": [
      "\u001b[2m2025-03-03 18:09:11\u001b[0m [\u001b[32m\u001b[1mdebug    \u001b[0m] \u001b[1mLoaded regex pattern          \u001b[0m \u001b[36mgroup_name\u001b[0m=\u001b[35mCREDIT_CARD_RE\u001b[0m\n",
      "\u001b[2m2025-03-03 18:09:11\u001b[0m [\u001b[32m\u001b[1mdebug    \u001b[0m] \u001b[1mLoaded regex pattern          \u001b[0m \u001b[36mgroup_name\u001b[0m=\u001b[35mUUID\u001b[0m\n",
      "\u001b[2m2025-03-03 18:09:11\u001b[0m [\u001b[32m\u001b[1mdebug    \u001b[0m] \u001b[1mLoaded regex pattern          \u001b[0m \u001b[36mgroup_name\u001b[0m=\u001b[35mEMAIL_ADDRESS_RE\u001b[0m\n",
      "\u001b[2m2025-03-03 18:09:11\u001b[0m [\u001b[32m\u001b[1mdebug    \u001b[0m] \u001b[1mLoaded regex pattern          \u001b[0m \u001b[36mgroup_name\u001b[0m=\u001b[35mUS_SSN_RE\u001b[0m\n",
      "\u001b[2m2025-03-03 18:09:11\u001b[0m [\u001b[32m\u001b[1mdebug    \u001b[0m] \u001b[1mLoaded regex pattern          \u001b[0m \u001b[36mgroup_name\u001b[0m=\u001b[35mBTC_ADDRESS\u001b[0m\n",
      "\u001b[2m2025-03-03 18:09:11\u001b[0m [\u001b[32m\u001b[1mdebug    \u001b[0m] \u001b[1mLoaded regex pattern          \u001b[0m \u001b[36mgroup_name\u001b[0m=\u001b[35mURL_RE\u001b[0m\n",
      "\u001b[2m2025-03-03 18:09:11\u001b[0m [\u001b[32m\u001b[1mdebug    \u001b[0m] \u001b[1mLoaded regex pattern          \u001b[0m \u001b[36mgroup_name\u001b[0m=\u001b[35mCREDIT_CARD\u001b[0m\n",
      "\u001b[2m2025-03-03 18:09:11\u001b[0m [\u001b[32m\u001b[1mdebug    \u001b[0m] \u001b[1mLoaded regex pattern          \u001b[0m \u001b[36mgroup_name\u001b[0m=\u001b[35mEMAIL_ADDRESS_RE\u001b[0m\n",
      "\u001b[2m2025-03-03 18:09:11\u001b[0m [\u001b[32m\u001b[1mdebug    \u001b[0m] \u001b[1mLoaded regex pattern          \u001b[0m \u001b[36mgroup_name\u001b[0m=\u001b[35mPHONE_NUMBER_ZH\u001b[0m\n",
      "\u001b[2m2025-03-03 18:09:11\u001b[0m [\u001b[32m\u001b[1mdebug    \u001b[0m] \u001b[1mLoaded regex pattern          \u001b[0m \u001b[36mgroup_name\u001b[0m=\u001b[35mPHONE_NUMBER_WITH_EXT\u001b[0m\n",
      "\u001b[2m2025-03-03 18:09:11\u001b[0m [\u001b[32m\u001b[1mdebug    \u001b[0m] \u001b[1mLoaded regex pattern          \u001b[0m \u001b[36mgroup_name\u001b[0m=\u001b[35mDATE_RE\u001b[0m\n",
      "\u001b[2m2025-03-03 18:09:11\u001b[0m [\u001b[32m\u001b[1mdebug    \u001b[0m] \u001b[1mLoaded regex pattern          \u001b[0m \u001b[36mgroup_name\u001b[0m=\u001b[35mTIME_RE\u001b[0m\n",
      "\u001b[2m2025-03-03 18:09:11\u001b[0m [\u001b[32m\u001b[1mdebug    \u001b[0m] \u001b[1mLoaded regex pattern          \u001b[0m \u001b[36mgroup_name\u001b[0m=\u001b[35mHEX_COLOR\u001b[0m\n",
      "\u001b[2m2025-03-03 18:09:11\u001b[0m [\u001b[32m\u001b[1mdebug    \u001b[0m] \u001b[1mLoaded regex pattern          \u001b[0m \u001b[36mgroup_name\u001b[0m=\u001b[35mPRICE_RE\u001b[0m\n",
      "\u001b[2m2025-03-03 18:09:11\u001b[0m [\u001b[32m\u001b[1mdebug    \u001b[0m] \u001b[1mLoaded regex pattern          \u001b[0m \u001b[36mgroup_name\u001b[0m=\u001b[35mPO_BOX_RE\u001b[0m\n",
      "\u001b[2m2025-03-03 18:09:30\u001b[0m [\u001b[32m\u001b[1mdebug    \u001b[0m] \u001b[1mInitialized classification model\u001b[0m \u001b[36mdevice\u001b[0m=\u001b[35mdevice(type='mps')\u001b[0m \u001b[36mmodel\u001b[0m=\u001b[35mModel(path='unitary/unbiased-toxic-roberta', subfolder='', revision='36295dd80b422dc49f40052021430dae76241adc', onnx_path='ProtectAI/unbiased-toxic-roberta-onnx', onnx_revision='34480fa958f6657ad835c345808475755b6974a7', onnx_subfolder='', onnx_filename='model.onnx', kwargs={}, pipeline_kwargs={'batch_size': 1, 'device': device(type='mps'), 'padding': 'max_length', 'top_k': None, 'function_to_apply': 'sigmoid', 'return_token_type_ids': False, 'max_length': 512, 'truncation': True}, tokenizer_kwargs={})\u001b[0m\n"
     ]
    },
    {
     "name": "stderr",
     "output_type": "stream",
     "text": [
      "Device set to use mps\n"
     ]
    },
    {
     "name": "stdout",
     "output_type": "stream",
     "text": [
      "\u001b[2m2025-03-03 18:10:07\u001b[0m [\u001b[32m\u001b[1mdebug    \u001b[0m] \u001b[1mInitialized classification model\u001b[0m \u001b[36mdevice\u001b[0m=\u001b[35mdevice(type='mps')\u001b[0m \u001b[36mmodel\u001b[0m=\u001b[35mModel(path='protectai/deberta-v3-base-prompt-injection-v2', subfolder='', revision='89b085cd330414d3e7d9dd787870f315957e1e9f', onnx_path='ProtectAI/deberta-v3-base-prompt-injection-v2', onnx_revision='89b085cd330414d3e7d9dd787870f315957e1e9f', onnx_subfolder='onnx', onnx_filename='model.onnx', kwargs={}, pipeline_kwargs={'batch_size': 1, 'device': device(type='mps'), 'return_token_type_ids': False, 'max_length': 512, 'truncation': True}, tokenizer_kwargs={})\u001b[0m\n"
     ]
    },
    {
     "name": "stderr",
     "output_type": "stream",
     "text": [
      "Device set to use mps\n"
     ]
    },
    {
     "name": "stdout",
     "output_type": "stream",
     "text": [
      "\u001b[2m2025-03-03 18:10:22\u001b[0m [\u001b[32m\u001b[1mdebug    \u001b[0m] \u001b[1mInitialized classification model\u001b[0m \u001b[36mdevice\u001b[0m=\u001b[35mdevice(type='mps')\u001b[0m \u001b[36mmodel\u001b[0m=\u001b[35mModel(path='ProtectAI/distilroberta-base-rejection-v1', subfolder='', revision='65584967c3f22ff7723e5370c65e0e76791e6055', onnx_path='ProtectAI/distilroberta-base-rejection-v1', onnx_revision='65584967c3f22ff7723e5370c65e0e76791e6055', onnx_subfolder='onnx', onnx_filename='model.onnx', kwargs={}, pipeline_kwargs={'batch_size': 1, 'device': device(type='mps'), 'return_token_type_ids': False, 'max_length': 128, 'truncation': True}, tokenizer_kwargs={})\u001b[0m\n"
     ]
    },
    {
     "name": "stderr",
     "output_type": "stream",
     "text": [
      "Device set to use mps\n"
     ]
    },
    {
     "name": "stdout",
     "output_type": "stream",
     "text": [
      "\u001b[2m2025-03-03 18:10:37\u001b[0m [\u001b[32m\u001b[1mdebug    \u001b[0m] \u001b[1mInitialized model             \u001b[0m \u001b[36mdevice\u001b[0m=\u001b[35mdevice(type='mps')\u001b[0m \u001b[36mmodel\u001b[0m=\u001b[35mModel(path='BAAI/bge-base-en-v1.5', subfolder='', revision='a5beb1e3e68b9ab74eb54cfd186867f64f240e1a', onnx_path='BAAI/bge-base-en-v1.5', onnx_revision='a5beb1e3e68b9ab74eb54cfd186867f64f240e1a', onnx_subfolder='onnx', onnx_filename='model.onnx', kwargs={}, pipeline_kwargs={'batch_size': 1, 'device': device(type='mps')}, tokenizer_kwargs={})\u001b[0m\n",
      "\u001b[2m2025-03-03 18:10:39\u001b[0m [\u001b[32m\u001b[1mdebug    \u001b[0m] \u001b[1mNo entity types provided, using default\u001b[0m \u001b[36mdefault_entity_types\u001b[0m=\u001b[35m['CREDIT_CARD', 'CRYPTO', 'EMAIL_ADDRESS', 'IBAN_CODE', 'IP_ADDRESS', 'PERSON', 'PHONE_NUMBER', 'US_SSN', 'US_BANK_NUMBER', 'CREDIT_CARD_RE', 'UUID', 'EMAIL_ADDRESS_RE', 'US_SSN_RE']\u001b[0m\n",
      "\u001b[2m2025-03-03 18:10:39\u001b[0m [\u001b[32m\u001b[1mdebug    \u001b[0m] \u001b[1mInitialized NER model         \u001b[0m \u001b[36mdevice\u001b[0m=\u001b[35mdevice(type='mps')\u001b[0m \u001b[36mmodel\u001b[0m=\u001b[35mModel(path='Isotonic/deberta-v3-base_finetuned_ai4privacy_v2', subfolder='', revision='9ea992753ab2686be4a8f64605ccc7be197ad794', onnx_path='Isotonic/deberta-v3-base_finetuned_ai4privacy_v2', onnx_revision='9ea992753ab2686be4a8f64605ccc7be197ad794', onnx_subfolder='onnx', onnx_filename='model.onnx', kwargs={}, pipeline_kwargs={'batch_size': 1, 'device': device(type='mps'), 'aggregation_strategy': 'simple', 'ignore_labels': ['O', 'CARDINAL']}, tokenizer_kwargs={'model_input_names': ['input_ids', 'attention_mask']})\u001b[0m\n"
     ]
    },
    {
     "name": "stderr",
     "output_type": "stream",
     "text": [
      "Device set to use mps\n"
     ]
    },
    {
     "name": "stdout",
     "output_type": "stream",
     "text": [
      "\u001b[2m2025-03-03 18:10:40\u001b[0m [\u001b[32m\u001b[1mdebug    \u001b[0m] \u001b[1mLoaded regex pattern          \u001b[0m \u001b[36mgroup_name\u001b[0m=\u001b[35mCREDIT_CARD_RE\u001b[0m\n",
      "\u001b[2m2025-03-03 18:10:40\u001b[0m [\u001b[32m\u001b[1mdebug    \u001b[0m] \u001b[1mLoaded regex pattern          \u001b[0m \u001b[36mgroup_name\u001b[0m=\u001b[35mUUID\u001b[0m\n",
      "\u001b[2m2025-03-03 18:10:40\u001b[0m [\u001b[32m\u001b[1mdebug    \u001b[0m] \u001b[1mLoaded regex pattern          \u001b[0m \u001b[36mgroup_name\u001b[0m=\u001b[35mEMAIL_ADDRESS_RE\u001b[0m\n",
      "\u001b[2m2025-03-03 18:10:40\u001b[0m [\u001b[32m\u001b[1mdebug    \u001b[0m] \u001b[1mLoaded regex pattern          \u001b[0m \u001b[36mgroup_name\u001b[0m=\u001b[35mUS_SSN_RE\u001b[0m\n",
      "\u001b[2m2025-03-03 18:10:40\u001b[0m [\u001b[32m\u001b[1mdebug    \u001b[0m] \u001b[1mLoaded regex pattern          \u001b[0m \u001b[36mgroup_name\u001b[0m=\u001b[35mBTC_ADDRESS\u001b[0m\n",
      "\u001b[2m2025-03-03 18:10:40\u001b[0m [\u001b[32m\u001b[1mdebug    \u001b[0m] \u001b[1mLoaded regex pattern          \u001b[0m \u001b[36mgroup_name\u001b[0m=\u001b[35mURL_RE\u001b[0m\n",
      "\u001b[2m2025-03-03 18:10:40\u001b[0m [\u001b[32m\u001b[1mdebug    \u001b[0m] \u001b[1mLoaded regex pattern          \u001b[0m \u001b[36mgroup_name\u001b[0m=\u001b[35mCREDIT_CARD\u001b[0m\n",
      "\u001b[2m2025-03-03 18:10:40\u001b[0m [\u001b[32m\u001b[1mdebug    \u001b[0m] \u001b[1mLoaded regex pattern          \u001b[0m \u001b[36mgroup_name\u001b[0m=\u001b[35mEMAIL_ADDRESS_RE\u001b[0m\n",
      "\u001b[2m2025-03-03 18:10:40\u001b[0m [\u001b[32m\u001b[1mdebug    \u001b[0m] \u001b[1mLoaded regex pattern          \u001b[0m \u001b[36mgroup_name\u001b[0m=\u001b[35mPHONE_NUMBER_ZH\u001b[0m\n",
      "\u001b[2m2025-03-03 18:10:40\u001b[0m [\u001b[32m\u001b[1mdebug    \u001b[0m] \u001b[1mLoaded regex pattern          \u001b[0m \u001b[36mgroup_name\u001b[0m=\u001b[35mPHONE_NUMBER_WITH_EXT\u001b[0m\n",
      "\u001b[2m2025-03-03 18:10:40\u001b[0m [\u001b[32m\u001b[1mdebug    \u001b[0m] \u001b[1mLoaded regex pattern          \u001b[0m \u001b[36mgroup_name\u001b[0m=\u001b[35mDATE_RE\u001b[0m\n",
      "\u001b[2m2025-03-03 18:10:40\u001b[0m [\u001b[32m\u001b[1mdebug    \u001b[0m] \u001b[1mLoaded regex pattern          \u001b[0m \u001b[36mgroup_name\u001b[0m=\u001b[35mTIME_RE\u001b[0m\n",
      "\u001b[2m2025-03-03 18:10:40\u001b[0m [\u001b[32m\u001b[1mdebug    \u001b[0m] \u001b[1mLoaded regex pattern          \u001b[0m \u001b[36mgroup_name\u001b[0m=\u001b[35mHEX_COLOR\u001b[0m\n",
      "\u001b[2m2025-03-03 18:10:40\u001b[0m [\u001b[32m\u001b[1mdebug    \u001b[0m] \u001b[1mLoaded regex pattern          \u001b[0m \u001b[36mgroup_name\u001b[0m=\u001b[35mPRICE_RE\u001b[0m\n",
      "\u001b[2m2025-03-03 18:10:40\u001b[0m [\u001b[32m\u001b[1mdebug    \u001b[0m] \u001b[1mLoaded regex pattern          \u001b[0m \u001b[36mgroup_name\u001b[0m=\u001b[35mPO_BOX_RE\u001b[0m\n"
     ]
    },
    {
     "name": "stderr",
     "output_type": "stream",
     "text": [
      "Asking to truncate to max_length but no maximum length is provided and the model has no predefined maximum length. Default to no truncation.\n"
     ]
    },
    {
     "name": "stdout",
     "output_type": "stream",
     "text": [
      "\u001b[2m2025-03-03 18:10:47\u001b[0m [\u001b[33m\u001b[1mwarning  \u001b[0m] \u001b[1mFound unrecognized label, returning entity as is\u001b[0m \u001b[36mlabel\u001b[0m=\u001b[35mACCOUNTNUMBER\u001b[0m\n",
      "\u001b[2m2025-03-03 18:10:47\u001b[0m [\u001b[32m\u001b[1mdebug    \u001b[0m] \u001b[1mremoving element type: CREDIT_CARD, start: 259, end: 276, score: 0.9399999976158142 from results list due to conflict\u001b[0m\n",
      "\u001b[2m2025-03-03 18:10:47\u001b[0m [\u001b[32m\u001b[1mdebug    \u001b[0m] \u001b[1mremoving element type: CREDIT_CARD, start: 257, end: 259, score: 0.8999999761581421 from results list due to conflict\u001b[0m\n",
      "\u001b[2m2025-03-03 18:10:47\u001b[0m [\u001b[32m\u001b[1mdebug    \u001b[0m] \u001b[1mremoving element type: EMAIL_ADDRESS_RE, start: 91, end: 104, score: 0.75 from results list due to conflict\u001b[0m\n",
      "\u001b[2m2025-03-03 18:10:47\u001b[0m [\u001b[32m\u001b[1mdebug    \u001b[0m] \u001b[1mremoving element type: EMAIL_ADDRESS_RE, start: 143, end: 157, score: 0.75 from results list due to conflict\u001b[0m\n",
      "\u001b[2m2025-03-03 18:10:47\u001b[0m [\u001b[33m\u001b[1mwarning  \u001b[0m] \u001b[1mFound sensitive data in the prompt and replaced it\u001b[0m \u001b[36mmerged_results\u001b[0m=\u001b[35m[type: PERSON, start: 72, end: 76, score: 0.9800000190734863, type: EMAIL_ADDRESS, start: 91, end: 104, score: 1.0, type: EMAIL_ADDRESS, start: 143, end: 157, score: 1.0, type: PHONE_NUMBER, start: 181, end: 193, score: 1.0, type: IP_ADDRESS, start: 216, end: 229, score: 0.95, type: CREDIT_CARD_RE, start: 257, end: 276, score: 0.75]\u001b[0m \u001b[36mrisk_score\u001b[0m=\u001b[35m1.0\u001b[0m\n",
      "\u001b[2m2025-03-03 18:10:47\u001b[0m [\u001b[32m\u001b[1mdebug    \u001b[0m] \u001b[1mScanner completed             \u001b[0m \u001b[36melapsed_time_seconds\u001b[0m=\u001b[35m6.069891\u001b[0m \u001b[36mis_valid\u001b[0m=\u001b[35mFalse\u001b[0m \u001b[36mscanner\u001b[0m=\u001b[35mAnonymize\u001b[0m\n",
      "\u001b[2m2025-03-03 18:10:49\u001b[0m [\u001b[32m\u001b[1mdebug    \u001b[0m] \u001b[1mNot toxicity found in the text\u001b[0m \u001b[36mresults\u001b[0m=\u001b[35m[[{'label': 'toxicity', 'score': 0.0003759853425435722}, {'label': 'male', 'score': 0.0002719546318985522}, {'label': 'psychiatric_or_mental_illness', 'score': 0.000157371730892919}, {'label': 'insult', 'score': 0.00012503942707553506}, {'label': 'female', 'score': 0.00011903675476787612}, {'label': 'white', 'score': 7.719261338934302e-05}, {'label': 'muslim', 'score': 6.578994361916557e-05}, {'label': 'christian', 'score': 6.36851618764922e-05}, {'label': 'black', 'score': 4.097538476344198e-05}, {'label': 'obscene', 'score': 3.6687441024696454e-05}, {'label': 'homosexual_gay_or_lesbian', 'score': 3.306433427496813e-05}, {'label': 'jewish', 'score': 2.8384612960508093e-05}, {'label': 'threat', 'score': 2.6172441721428186e-05}, {'label': 'identity_attack', 'score': 2.5077546524698846e-05}, {'label': 'sexual_explicit', 'score': 2.4761178792687133e-05}, {'label': 'severe_toxicity', 'score': 1.3432960486170487e-06}]]\u001b[0m\n",
      "\u001b[2m2025-03-03 18:10:49\u001b[0m [\u001b[32m\u001b[1mdebug    \u001b[0m] \u001b[1mScanner completed             \u001b[0m \u001b[36melapsed_time_seconds\u001b[0m=\u001b[35m1.861599\u001b[0m \u001b[36mis_valid\u001b[0m=\u001b[35mTrue\u001b[0m \u001b[36mscanner\u001b[0m=\u001b[35mToxicity\u001b[0m\n",
      "\u001b[2m2025-03-03 18:10:49\u001b[0m [\u001b[32m\u001b[1mdebug    \u001b[0m] \u001b[1mPrompt fits the maximum tokens\u001b[0m \u001b[36mnum_tokens\u001b[0m=\u001b[35m109\u001b[0m \u001b[36mthreshold\u001b[0m=\u001b[35m4096\u001b[0m\n",
      "\u001b[2m2025-03-03 18:10:49\u001b[0m [\u001b[32m\u001b[1mdebug    \u001b[0m] \u001b[1mScanner completed             \u001b[0m \u001b[36melapsed_time_seconds\u001b[0m=\u001b[35m0.058096\u001b[0m \u001b[36mis_valid\u001b[0m=\u001b[35mTrue\u001b[0m \u001b[36mscanner\u001b[0m=\u001b[35mTokenLimit\u001b[0m\n",
      "\u001b[2m2025-03-03 18:10:52\u001b[0m [\u001b[32m\u001b[1mdebug    \u001b[0m] \u001b[1mNo prompt injection detected  \u001b[0m \u001b[36mhighest_score\u001b[0m=\u001b[35m0.01\u001b[0m\n",
      "\u001b[2m2025-03-03 18:10:52\u001b[0m [\u001b[32m\u001b[1mdebug    \u001b[0m] \u001b[1mScanner completed             \u001b[0m \u001b[36melapsed_time_seconds\u001b[0m=\u001b[35m2.35122\u001b[0m \u001b[36mis_valid\u001b[0m=\u001b[35mTrue\u001b[0m \u001b[36mscanner\u001b[0m=\u001b[35mPromptInjection\u001b[0m\n",
      "\u001b[2m2025-03-03 18:10:52\u001b[0m [\u001b[32m\u001b[1minfo     \u001b[0m] \u001b[1mScanned prompt                \u001b[0m \u001b[36melapsed_time_seconds\u001b[0m=\u001b[35m10.341999\u001b[0m \u001b[36mscores\u001b[0m=\u001b[35m{'Anonymize': 1.0, 'Toxicity': 0.0, 'TokenLimit': 0.0, 'PromptInjection': 0.0}\u001b[0m\n",
      "Prompt: Make an SQL insert statement to add a new user to our database. Name is [REDACTED_PERSON_1] Doe. Email is [REDACTED_EMAIL_ADDRESS_1] but also possible to contact him with [REDACTED_EMAIL_ADDRESS_2] email. Phone number is [REDACTED_PHONE_NUMBER_1] and the IP address is [REDACTED_IP_ADDRESS_1]. And credit card number is [REDACTED_CREDIT_CARD_RE_1]. He works in Test LLC.\n",
      "\u001b[2m2025-03-03 18:10:55\u001b[0m [\u001b[32m\u001b[1mdebug    \u001b[0m] \u001b[1mReplaced placeholder with real value\u001b[0m \u001b[36mplaceholder\u001b[0m=\u001b[35m[REDACTED_CREDIT_CARD_RE_1]\u001b[0m\n",
      "\u001b[2m2025-03-03 18:10:55\u001b[0m [\u001b[32m\u001b[1mdebug    \u001b[0m] \u001b[1mReplaced placeholder with real value\u001b[0m \u001b[36mplaceholder\u001b[0m=\u001b[35m[REDACTED_IP_ADDRESS_1]\u001b[0m\n",
      "\u001b[2m2025-03-03 18:10:55\u001b[0m [\u001b[32m\u001b[1mdebug    \u001b[0m] \u001b[1mReplaced placeholder with real value\u001b[0m \u001b[36mplaceholder\u001b[0m=\u001b[35m[REDACTED_PHONE_NUMBER_1]\u001b[0m\n",
      "\u001b[2m2025-03-03 18:10:55\u001b[0m [\u001b[32m\u001b[1mdebug    \u001b[0m] \u001b[1mReplaced placeholder with real value\u001b[0m \u001b[36mplaceholder\u001b[0m=\u001b[35m[REDACTED_EMAIL_ADDRESS_2]\u001b[0m\n",
      "\u001b[2m2025-03-03 18:10:55\u001b[0m [\u001b[32m\u001b[1mdebug    \u001b[0m] \u001b[1mReplaced placeholder with real value\u001b[0m \u001b[36mplaceholder\u001b[0m=\u001b[35m[REDACTED_EMAIL_ADDRESS_1]\u001b[0m\n",
      "\u001b[2m2025-03-03 18:10:55\u001b[0m [\u001b[32m\u001b[1mdebug    \u001b[0m] \u001b[1mReplaced placeholder with real value\u001b[0m \u001b[36mplaceholder\u001b[0m=\u001b[35m[REDACTED_PERSON_1]\u001b[0m\n",
      "\u001b[2m2025-03-03 18:10:55\u001b[0m [\u001b[32m\u001b[1mdebug    \u001b[0m] \u001b[1mScanner completed             \u001b[0m \u001b[36melapsed_time_seconds\u001b[0m=\u001b[35m0.003299\u001b[0m \u001b[36mis_valid\u001b[0m=\u001b[35mTrue\u001b[0m \u001b[36mscanner\u001b[0m=\u001b[35mDeanonymize\u001b[0m\n",
      "\u001b[2m2025-03-03 18:10:56\u001b[0m [\u001b[32m\u001b[1mdebug    \u001b[0m] \u001b[1mNo rejection detected         \u001b[0m \u001b[36mhighest_score\u001b[0m=\u001b[35m0.0\u001b[0m\n",
      "\u001b[2m2025-03-03 18:10:56\u001b[0m [\u001b[32m\u001b[1mdebug    \u001b[0m] \u001b[1mScanner completed             \u001b[0m \u001b[36melapsed_time_seconds\u001b[0m=\u001b[35m0.985955\u001b[0m \u001b[36mis_valid\u001b[0m=\u001b[35mTrue\u001b[0m \u001b[36mscanner\u001b[0m=\u001b[35mNoRefusal\u001b[0m\n",
      "\u001b[2m2025-03-03 18:11:00\u001b[0m [\u001b[32m\u001b[1mdebug    \u001b[0m] \u001b[1mResult is similar to the prompt\u001b[0m \u001b[36msimilarity_score\u001b[0m=\u001b[35m0.8432199\u001b[0m\n",
      "\u001b[2m2025-03-03 18:11:00\u001b[0m [\u001b[32m\u001b[1mdebug    \u001b[0m] \u001b[1mScanner completed             \u001b[0m \u001b[36melapsed_time_seconds\u001b[0m=\u001b[35m4.43205\u001b[0m \u001b[36mis_valid\u001b[0m=\u001b[35mTrue\u001b[0m \u001b[36mscanner\u001b[0m=\u001b[35mRelevance\u001b[0m\n"
     ]
    },
    {
     "name": "stderr",
     "output_type": "stream",
     "text": [
      "Asking to truncate to max_length but no maximum length is provided and the model has no predefined maximum length. Default to no truncation.\n"
     ]
    },
    {
     "name": "stdout",
     "output_type": "stream",
     "text": [
      "\u001b[2m2025-03-03 18:11:01\u001b[0m [\u001b[33m\u001b[1mwarning  \u001b[0m] \u001b[1mFound unrecognized label, returning entity as is\u001b[0m \u001b[36mlabel\u001b[0m=\u001b[35mACCOUNTNUMBER\u001b[0m\n",
      "\u001b[2m2025-03-03 18:11:01\u001b[0m [\u001b[33m\u001b[1mwarning  \u001b[0m] \u001b[1mFound unrecognized label, returning entity as is\u001b[0m \u001b[36mlabel\u001b[0m=\u001b[35mACCOUNTNUMBER\u001b[0m\n",
      "\u001b[2m2025-03-03 18:11:01\u001b[0m [\u001b[33m\u001b[1mwarning  \u001b[0m] \u001b[1mFound unrecognized label, returning entity as is\u001b[0m \u001b[36mlabel\u001b[0m=\u001b[35mACCOUNTNUMBER\u001b[0m\n",
      "\u001b[2m2025-03-03 18:11:01\u001b[0m [\u001b[33m\u001b[1mwarning  \u001b[0m] \u001b[1mFound unrecognized label, returning entity as is\u001b[0m \u001b[36mlabel\u001b[0m=\u001b[35mACCOUNTNUMBER\u001b[0m\n",
      "\u001b[2m2025-03-03 18:11:01\u001b[0m [\u001b[33m\u001b[1mwarning  \u001b[0m] \u001b[1mFound unrecognized label, returning entity as is\u001b[0m \u001b[36mlabel\u001b[0m=\u001b[35mACCOUNTNUMBER\u001b[0m\n",
      "\u001b[2m2025-03-03 18:11:01\u001b[0m [\u001b[33m\u001b[1mwarning  \u001b[0m] \u001b[1mFound unrecognized label, returning entity as is\u001b[0m \u001b[36mlabel\u001b[0m=\u001b[35mACCOUNTNUMBER\u001b[0m\n",
      "\u001b[2m2025-03-03 18:11:01\u001b[0m [\u001b[33m\u001b[1mwarning  \u001b[0m] \u001b[1mFound unrecognized label, returning entity as is\u001b[0m \u001b[36mlabel\u001b[0m=\u001b[35mACCOUNTNUMBER\u001b[0m\n",
      "\u001b[2m2025-03-03 18:11:01\u001b[0m [\u001b[33m\u001b[1mwarning  \u001b[0m] \u001b[1mFound unrecognized label, returning entity as is\u001b[0m \u001b[36mlabel\u001b[0m=\u001b[35mACCOUNTNUMBER\u001b[0m\n",
      "\u001b[2m2025-03-03 18:11:01\u001b[0m [\u001b[33m\u001b[1mwarning  \u001b[0m] \u001b[1mFound sensitive data in the output\u001b[0m \u001b[36mresults\u001b[0m=\u001b[35m[type: EMAIL_ADDRESS, start: 214, end: 227, score: 1.0, type: EMAIL_ADDRESS, start: 231, end: 245, score: 1.0, type: EMAIL_ADDRESS, start: 381, end: 394, score: 1.0, type: EMAIL_ADDRESS, start: 398, end: 412, score: 1.0, type: PERSON, start: 202, end: 206, score: 0.7699999809265137, type: EMAIL_ADDRESS_RE, start: 214, end: 227, score: 0.75, type: EMAIL_ADDRESS_RE, start: 231, end: 245, score: 0.75, type: CREDIT_CARD_RE, start: 282, end: 301, score: 0.75, type: EMAIL_ADDRESS_RE, start: 381, end: 394, score: 0.75, type: EMAIL_ADDRESS_RE, start: 398, end: 412, score: 0.75, type: CREDIT_CARD_RE, start: 453, end: 472, score: 0.75, type: IP_ADDRESS, start: 265, end: 278, score: 0.6, type: IP_ADDRESS, start: 432, end: 445, score: 0.6]\u001b[0m\n",
      "\u001b[2m2025-03-03 18:11:01\u001b[0m [\u001b[32m\u001b[1mdebug    \u001b[0m] \u001b[1mScanner completed             \u001b[0m \u001b[36melapsed_time_seconds\u001b[0m=\u001b[35m1.119655\u001b[0m \u001b[36mis_valid\u001b[0m=\u001b[35mFalse\u001b[0m \u001b[36mscanner\u001b[0m=\u001b[35mSensitive\u001b[0m\n",
      "\u001b[2m2025-03-03 18:11:01\u001b[0m [\u001b[32m\u001b[1minfo     \u001b[0m] \u001b[1mScanned output                \u001b[0m \u001b[36melapsed_time_seconds\u001b[0m=\u001b[35m6.542937\u001b[0m \u001b[36mscores\u001b[0m=\u001b[35m{'Deanonymize': 0.0, 'NoRefusal': 0.0, 'Relevance': 0.0, 'Sensitive': 1.0}\u001b[0m\n",
      "Output: Sure! Here is an example SQL insert statement to add a new user to the database:\n",
      "\n",
      "```sql\n",
      "INSERT INTO users (name, email, alternate_email, phone_number, ip_address, credit_card_number, company)\n",
      "VALUES ('John Doe', 'test@test.com', 'hello@test.com', '555-123-4567', '192.168.1.100', '4567-8901-2345-6789', 'Test LLC');\n",
      "```\n",
      "\n",
      "Please make sure to replace the placeholders like `John`, `test@test.com`, `hello@test.com`, `555-123-4567`, `192.168.1.100`, and `4567-8901-2345-6789` with the actual values before executing the SQL statement.\n",
      "\n"
     ]
    }
   ],
   "source": [
    "import os\n",
    "\n",
    "from openai import OpenAI\n",
    "\n",
    "from llm_guard import scan_output, scan_prompt\n",
    "from llm_guard.input_scanners import Anonymize, PromptInjection, TokenLimit, Toxicity\n",
    "from llm_guard.output_scanners import Deanonymize, NoRefusal, Relevance, Sensitive\n",
    "from llm_guard.vault import Vault\n",
    "\n",
    "client = OpenAI(api_key=os.getenv(\"OPENAI_API_KEY\"))\n",
    "vault = Vault()\n",
    "input_scanners = [Anonymize(vault), Toxicity(), TokenLimit(), PromptInjection()]\n",
    "output_scanners = [Deanonymize(vault), NoRefusal(), Relevance(), Sensitive()]\n",
    "\n",
    "prompt = (\n",
    "    \"Make an SQL insert statement to add a new user to our database. Name is John Doe. Email is test@test.com \"\n",
    "    \"but also possible to contact him with hello@test.com email. Phone number is 555-123-4567 and \"\n",
    "    \"the IP address is 192.168.1.100. And credit card number is 4567-8901-2345-6789. \"\n",
    "    \"He works in Test LLC.\"\n",
    ")\n",
    "\n",
    "sanitized_prompt, results_valid, results_score = scan_prompt(input_scanners, prompt)\n",
    "if any(results_valid.values()) is False:\n",
    "    print(f\"Prompt {prompt} is not valid, scores: {results_score}\")\n",
    "    exit(1)\n",
    "\n",
    "print(f\"Prompt: {sanitized_prompt}\")\n",
    "\n",
    "response = client.chat.completions.create(\n",
    "    model=\"gpt-3.5-turbo\",\n",
    "    messages=[\n",
    "        {\"role\": \"system\", \"content\": \"You are a helpful assistant.\"},\n",
    "        {\"role\": \"user\", \"content\": sanitized_prompt},\n",
    "    ],\n",
    "    temperature=0,\n",
    "    max_tokens=512,\n",
    ")\n",
    "response_text = response.choices[0].message.content\n",
    "sanitized_response_text, results_valid, results_score = scan_output(\n",
    "    output_scanners, sanitized_prompt, response_text\n",
    ")\n",
    "if any(results_valid.values()) is False:\n",
    "    print(f\"Output {response_text} is not valid, scores: {results_score}\")\n",
    "    exit(1)\n",
    "\n",
    "print(f\"Output: {sanitized_response_text}\\n\")"
   ]
  },
  {
   "cell_type": "code",
   "execution_count": 3,
   "metadata": {},
   "outputs": [
    {
     "data": {
      "text/plain": [
       "'Make an SQL insert statement to add a new user to our database. Name is [REDACTED_PERSON_1] Doe. Email is [REDACTED_EMAIL_ADDRESS_1] but also possible to contact him with [REDACTED_EMAIL_ADDRESS_2] email. Phone number is [REDACTED_PHONE_NUMBER_1] and the IP address is [REDACTED_IP_ADDRESS_1]. And credit card number is [REDACTED_CREDIT_CARD_RE_1]. He works in Test LLC.'"
      ]
     },
     "execution_count": 3,
     "metadata": {},
     "output_type": "execute_result"
    }
   ],
   "source": [
    "sanitized_prompt"
   ]
  },
  {
   "cell_type": "code",
   "execution_count": 5,
   "metadata": {},
   "outputs": [
    {
     "data": {
      "text/plain": [
       "\"Sure! Here is an example SQL insert statement to add a new user to the database:\\n\\n```sql\\nINSERT INTO users (name, email, alternate_email, phone_number, ip_address, credit_card_number, company)\\nVALUES ('[REDACTED_PERSON_1] Doe', '[REDACTED_EMAIL_ADDRESS_1]', '[REDACTED_EMAIL_ADDRESS_2]', '[REDACTED_PHONE_NUMBER_1]', '[REDACTED_IP_ADDRESS_1]', '[REDACTED_CREDIT_CARD_RE_1]', 'Test LLC');\\n```\\n\\nPlease make sure to replace the placeholders like `[REDACTED_PERSON_1]`, `[REDACTED_EMAIL_ADDRESS_1]`, `[REDACTED_EMAIL_ADDRESS_2]`, `[REDACTED_PHONE_NUMBER_1]`, `[REDACTED_IP_ADDRESS_1]`, and `[REDACTED_CREDIT_CARD_RE_1]` with the actual values before executing the SQL statement.\""
      ]
     },
     "execution_count": 5,
     "metadata": {},
     "output_type": "execute_result"
    }
   ],
   "source": [
    "response_text"
   ]
  },
  {
   "cell_type": "code",
   "execution_count": 6,
   "metadata": {},
   "outputs": [
    {
     "data": {
      "text/plain": [
       "\"Sure! Here is an example SQL insert statement to add a new user to the database:\\n\\n```sql\\nINSERT INTO users (name, email, alternate_email, phone_number, ip_address, credit_card_number, company)\\nVALUES ('John Doe', 'test@test.com', 'hello@test.com', '555-123-4567', '192.168.1.100', '4567-8901-2345-6789', 'Test LLC');\\n```\\n\\nPlease make sure to replace the placeholders like `John`, `test@test.com`, `hello@test.com`, `555-123-4567`, `192.168.1.100`, and `4567-8901-2345-6789` with the actual values before executing the SQL statement.\""
      ]
     },
     "execution_count": 6,
     "metadata": {},
     "output_type": "execute_result"
    }
   ],
   "source": [
    "sanitized_response_text"
   ]
  }
 ],
 "metadata": {
  "kernelspec": {
   "display_name": ".security",
   "language": "python",
   "name": "python3"
  },
  "language_info": {
   "codemirror_mode": {
    "name": "ipython",
    "version": 3
   },
   "file_extension": ".py",
   "mimetype": "text/x-python",
   "name": "python",
   "nbconvert_exporter": "python",
   "pygments_lexer": "ipython3",
   "version": "3.10.12"
  }
 },
 "nbformat": 4,
 "nbformat_minor": 2
}
