{
 "cells": [
  {
   "cell_type": "markdown",
   "metadata": {},
   "source": [
    "# Explore NLTK Package"
   ]
  },
  {
   "cell_type": "code",
   "execution_count": 2,
   "metadata": {},
   "outputs": [],
   "source": [
    "import nltk"
   ]
  },
  {
   "cell_type": "code",
   "execution_count": 3,
   "metadata": {},
   "outputs": [
    {
     "name": "stderr",
     "output_type": "stream",
     "text": [
      "[nltk_data] Downloading package punkt to /Users/james/nltk_data...\n",
      "[nltk_data]   Package punkt is already up-to-date!\n"
     ]
    },
    {
     "data": {
      "text/plain": [
       "True"
      ]
     },
     "execution_count": 3,
     "metadata": {},
     "output_type": "execute_result"
    }
   ],
   "source": [
    "nltk.download(\"punkt\")"
   ]
  },
  {
   "cell_type": "code",
   "execution_count": 4,
   "metadata": {},
   "outputs": [],
   "source": [
    "text = \"\"\"The Natural Language Toolkit (NLTK) is a comprehensive Python library for natural language processing (NLP). It provides tools for tokenization, stemming, lemmatization, part-of-speech tagging, parsing, named entity recognition, and more. NLTK includes a wide range of linguistic datasets and corpora, making it a valuable resource for researchers and developers working with text data. While it is user-friendly and excellent for educational purposes, NLTK can be slower compared to more modern NLP libraries like SpaCy. Nonetheless, it remains a powerful tool for text analysis, language modeling, and NLP experimentation.\"\"\""
   ]
  },
  {
   "cell_type": "code",
   "execution_count": 5,
   "metadata": {},
   "outputs": [],
   "source": [
    "from nltk.tokenize import word_tokenize\n",
    "\n",
    "tokenized_words = word_tokenize(text)"
   ]
  },
  {
   "cell_type": "code",
   "execution_count": 6,
   "metadata": {},
   "outputs": [
    {
     "data": {
      "text/plain": [
       "['The',\n",
       " 'Natural',\n",
       " 'Language',\n",
       " 'Toolkit',\n",
       " '(',\n",
       " 'NLTK',\n",
       " ')',\n",
       " 'is',\n",
       " 'a',\n",
       " 'comprehensive',\n",
       " 'Python',\n",
       " 'library',\n",
       " 'for',\n",
       " 'natural',\n",
       " 'language',\n",
       " 'processing',\n",
       " '(',\n",
       " 'NLP',\n",
       " ')',\n",
       " '.',\n",
       " 'It',\n",
       " 'provides',\n",
       " 'tools',\n",
       " 'for',\n",
       " 'tokenization',\n",
       " ',',\n",
       " 'stemming',\n",
       " ',',\n",
       " 'lemmatization',\n",
       " ',',\n",
       " 'part-of-speech',\n",
       " 'tagging',\n",
       " ',',\n",
       " 'parsing',\n",
       " ',',\n",
       " 'named',\n",
       " 'entity',\n",
       " 'recognition',\n",
       " ',',\n",
       " 'and',\n",
       " 'more',\n",
       " '.',\n",
       " 'NLTK',\n",
       " 'includes',\n",
       " 'a',\n",
       " 'wide',\n",
       " 'range',\n",
       " 'of',\n",
       " 'linguistic',\n",
       " 'datasets',\n",
       " 'and',\n",
       " 'corpora',\n",
       " ',',\n",
       " 'making',\n",
       " 'it',\n",
       " 'a',\n",
       " 'valuable',\n",
       " 'resource',\n",
       " 'for',\n",
       " 'researchers',\n",
       " 'and',\n",
       " 'developers',\n",
       " 'working',\n",
       " 'with',\n",
       " 'text',\n",
       " 'data',\n",
       " '.',\n",
       " 'While',\n",
       " 'it',\n",
       " 'is',\n",
       " 'user-friendly',\n",
       " 'and',\n",
       " 'excellent',\n",
       " 'for',\n",
       " 'educational',\n",
       " 'purposes',\n",
       " ',',\n",
       " 'NLTK',\n",
       " 'can',\n",
       " 'be',\n",
       " 'slower',\n",
       " 'compared',\n",
       " 'to',\n",
       " 'more',\n",
       " 'modern',\n",
       " 'NLP',\n",
       " 'libraries',\n",
       " 'like',\n",
       " 'SpaCy',\n",
       " '.',\n",
       " 'Nonetheless',\n",
       " ',',\n",
       " 'it',\n",
       " 'remains',\n",
       " 'a',\n",
       " 'powerful',\n",
       " 'tool',\n",
       " 'for',\n",
       " 'text',\n",
       " 'analysis',\n",
       " ',',\n",
       " 'language',\n",
       " 'modeling',\n",
       " ',',\n",
       " 'and',\n",
       " 'NLP',\n",
       " 'experimentation',\n",
       " '.']"
      ]
     },
     "execution_count": 6,
     "metadata": {},
     "output_type": "execute_result"
    }
   ],
   "source": [
    "tokenized_words"
   ]
  },
  {
   "cell_type": "code",
   "execution_count": 7,
   "metadata": {},
   "outputs": [
    {
     "data": {
      "text/plain": [
       "['The Natural Language Toolkit (NLTK) is a comprehensive Python library for natural language processing (NLP).',\n",
       " 'It provides tools for tokenization, stemming, lemmatization, part-of-speech tagging, parsing, named entity recognition, and more.',\n",
       " 'NLTK includes a wide range of linguistic datasets and corpora, making it a valuable resource for researchers and developers working with text data.',\n",
       " 'While it is user-friendly and excellent for educational purposes, NLTK can be slower compared to more modern NLP libraries like SpaCy.',\n",
       " 'Nonetheless, it remains a powerful tool for text analysis, language modeling, and NLP experimentation.']"
      ]
     },
     "execution_count": 7,
     "metadata": {},
     "output_type": "execute_result"
    }
   ],
   "source": [
    "from nltk.tokenize import sent_tokenize\n",
    "\n",
    "sent_tokenize(text)"
   ]
  },
  {
   "cell_type": "code",
   "execution_count": 8,
   "metadata": {},
   "outputs": [],
   "source": [
    "from nltk.probability import FreqDist\n",
    "\n",
    "fd = FreqDist(tokenized_words)"
   ]
  },
  {
   "cell_type": "code",
   "execution_count": 9,
   "metadata": {},
   "outputs": [
    {
     "data": {
      "text/plain": [
       "FreqDist({',': 11, 'for': 5, '.': 5, 'and': 5, 'a': 4, 'NLTK': 3, 'NLP': 3, 'it': 3, '(': 2, ')': 2, ...})"
      ]
     },
     "execution_count": 9,
     "metadata": {},
     "output_type": "execute_result"
    }
   ],
   "source": [
    "fd"
   ]
  },
  {
   "cell_type": "code",
   "execution_count": 10,
   "metadata": {},
   "outputs": [
    {
     "data": {
      "text/plain": [
       "[(',', 11),\n",
       " ('for', 5),\n",
       " ('.', 5),\n",
       " ('and', 5),\n",
       " ('a', 4),\n",
       " ('NLTK', 3),\n",
       " ('NLP', 3),\n",
       " ('it', 3),\n",
       " ('(', 2),\n",
       " (')', 2),\n",
       " ('is', 2),\n",
       " ('language', 2),\n",
       " ('more', 2),\n",
       " ('text', 2),\n",
       " ('The', 1),\n",
       " ('Natural', 1),\n",
       " ('Language', 1),\n",
       " ('Toolkit', 1),\n",
       " ('comprehensive', 1),\n",
       " ('Python', 1),\n",
       " ('library', 1),\n",
       " ('natural', 1),\n",
       " ('processing', 1),\n",
       " ('It', 1),\n",
       " ('provides', 1),\n",
       " ('tools', 1),\n",
       " ('tokenization', 1),\n",
       " ('stemming', 1),\n",
       " ('lemmatization', 1),\n",
       " ('part-of-speech', 1),\n",
       " ('tagging', 1),\n",
       " ('parsing', 1),\n",
       " ('named', 1),\n",
       " ('entity', 1),\n",
       " ('recognition', 1),\n",
       " ('includes', 1),\n",
       " ('wide', 1),\n",
       " ('range', 1),\n",
       " ('of', 1),\n",
       " ('linguistic', 1),\n",
       " ('datasets', 1),\n",
       " ('corpora', 1),\n",
       " ('making', 1),\n",
       " ('valuable', 1),\n",
       " ('resource', 1),\n",
       " ('researchers', 1),\n",
       " ('developers', 1),\n",
       " ('working', 1),\n",
       " ('with', 1),\n",
       " ('data', 1),\n",
       " ('While', 1),\n",
       " ('user-friendly', 1),\n",
       " ('excellent', 1),\n",
       " ('educational', 1),\n",
       " ('purposes', 1),\n",
       " ('can', 1),\n",
       " ('be', 1),\n",
       " ('slower', 1),\n",
       " ('compared', 1),\n",
       " ('to', 1),\n",
       " ('modern', 1),\n",
       " ('libraries', 1),\n",
       " ('like', 1),\n",
       " ('SpaCy', 1),\n",
       " ('Nonetheless', 1),\n",
       " ('remains', 1),\n",
       " ('powerful', 1),\n",
       " ('tool', 1),\n",
       " ('analysis', 1),\n",
       " ('modeling', 1),\n",
       " ('experimentation', 1)]"
      ]
     },
     "execution_count": 10,
     "metadata": {},
     "output_type": "execute_result"
    }
   ],
   "source": [
    "fd.most_common()"
   ]
  },
  {
   "cell_type": "code",
   "execution_count": 11,
   "metadata": {},
   "outputs": [
    {
     "data": {
      "image/png": "[encoded data removed]",
      "text/plain": [
       "<Figure size 640x480 with 1 Axes>"
      ]
     },
     "metadata": {},
     "output_type": "display_data"
    }
   ],
   "source": [
    "import matplotlib.pyplot as plt\n",
    "\n",
    "fd.plot(30, cumulative=False)\n",
    "\n",
    "plt.show()"
   ]
  },
  {
   "cell_type": "markdown",
   "metadata": {},
   "source": [
    "# Sentiment Analyzer"
   ]
  },
  {
   "cell_type": "code",
   "execution_count": 12,
   "metadata": {},
   "outputs": [
    {
     "name": "stdout",
     "output_type": "stream",
     "text": [
      "Sentence: I love this product! | Sentiment: {'neg': 0.0, 'neu': 0.308, 'pos': 0.692, 'compound': 0.6696}\n",
      "\n",
      "Sentence: It's amazing. | Sentiment: {'neg': 0.0, 'neu': 0.208, 'pos': 0.792, 'compound': 0.5859}\n",
      "\n",
      "Sentence: But the shipping was terrible. | Sentiment: {'neg': 0.509, 'neu': 0.491, 'pos': 0.0, 'compound': -0.631}\n",
      "\n"
     ]
    },
    {
     "name": "stderr",
     "output_type": "stream",
     "text": [
      "[nltk_data] Downloading package punkt to /Users/james/nltk_data...\n",
      "[nltk_data]   Package punkt is already up-to-date!\n",
      "[nltk_data] Downloading package vader_lexicon to\n",
      "[nltk_data]     /Users/james/nltk_data...\n",
      "[nltk_data]   Package vader_lexicon is already up-to-date!\n"
     ]
    }
   ],
   "source": [
    "import nltk\n",
    "from nltk.tokenize import sent_tokenize\n",
    "from nltk.sentiment import SentimentIntensityAnalyzer\n",
    "\n",
    "nltk.download(\"punkt\")\n",
    "nltk.download(\"vader_lexicon\")\n",
    "\n",
    "sia = SentimentIntensityAnalyzer()\n",
    "\n",
    "text = \"I love this product! It's amazing. But the shipping was terrible.\"\n",
    "\n",
    "sentences = sent_tokenize(text)\n",
    "\n",
    "for sentence in sentences:\n",
    "    score = sia.polarity_scores(sentence)\n",
    "    print(f\"Sentence: {sentence} | Sentiment: {score}\\n\")\n"
   ]
  },
  {
   "cell_type": "markdown",
   "metadata": {},
   "source": [
    "# Explore WordNet"
   ]
  },
  {
   "cell_type": "code",
   "execution_count": 13,
   "metadata": {},
   "outputs": [
    {
     "name": "stderr",
     "output_type": "stream",
     "text": [
      "[nltk_data] Downloading package wordnet to /Users/james/nltk_data...\n",
      "[nltk_data]   Package wordnet is already up-to-date!\n"
     ]
    },
    {
     "data": {
      "text/plain": [
       "True"
      ]
     },
     "execution_count": 13,
     "metadata": {},
     "output_type": "execute_result"
    }
   ],
   "source": [
    "import nltk\n",
    "\n",
    "nltk.download(\"wordnet\")"
   ]
  },
  {
   "cell_type": "code",
   "execution_count": 14,
   "metadata": {},
   "outputs": [],
   "source": [
    "from nltk.corpus import wordnet\n",
    "\n",
    "synsets = wordnet.synsets(\"run\")"
   ]
  },
  {
   "cell_type": "code",
   "execution_count": 15,
   "metadata": {},
   "outputs": [
    {
     "name": "stdout",
     "output_type": "stream",
     "text": [
      "run.n.01 → a score in baseball made by a runner touching all four bases safely\n",
      "run.n.05 → (American football) a play in which a player attempts to carry the ball through or past the opposing team\n",
      "run.n.06 → a regular trip\n",
      "run.n.07 → the act of running; traveling on foot at a fast pace\n",
      "run.n.08 → the continuous period of time during which something (a machine or a factory) operates or continues in operation\n",
      "run.n.09 → unrestricted freedom to use\n",
      "run.n.10 → the production achieved during a continuous period of operation (of a machine or factory etc.)\n",
      "run.n.13 → a row of unravelled stitches\n",
      "run.n.15 → an unbroken chronological sequence\n",
      "run.n.16 → a short trip\n",
      "run.v.01 → move fast by using one's feet, with one foot off the ground at any given time\n",
      "run.v.03 → stretch out over a distance, space, time, or scope; run or extend between two points or beyond a certain point\n"
     ]
    }
   ],
   "source": [
    "for syn in synsets[:20]:\n",
    "    if \"run\" in syn.name():\n",
    "        print(syn.name(), \"→\", syn.definition())"
   ]
  },
  {
   "cell_type": "markdown",
   "metadata": {},
   "source": [
    "# Sinónimos"
   ]
  },
  {
   "cell_type": "code",
   "execution_count": 16,
   "metadata": {},
   "outputs": [
    {
     "name": "stdout",
     "output_type": "stream",
     "text": [
      "{'felicitous', 'well-chosen', 'glad', 'happy'}\n"
     ]
    }
   ],
   "source": [
    "synonyms = [lemma.name() for syn in wordnet.synsets(\"happy\") for lemma in syn.lemmas()]\n",
    "print(set(synonyms))\n"
   ]
  },
  {
   "cell_type": "markdown",
   "metadata": {},
   "source": [
    "# Antónimos"
   ]
  },
  {
   "cell_type": "code",
   "execution_count": 17,
   "metadata": {},
   "outputs": [
    {
     "name": "stdout",
     "output_type": "stream",
     "text": [
      "{'unhappy'}\n"
     ]
    }
   ],
   "source": [
    "antonyms = []\n",
    "for syn in wordnet.synsets(\"happy\"):\n",
    "    for lemma in syn.lemmas():\n",
    "        if lemma.antonyms():\n",
    "            antonyms.append(lemma.antonyms()[0].name())\n",
    "\n",
    "print(set(antonyms))\n"
   ]
  },
  {
   "cell_type": "markdown",
   "metadata": {},
   "source": [
    "# TextSplitter"
   ]
  },
  {
   "cell_type": "code",
   "execution_count": 18,
   "metadata": {},
   "outputs": [
    {
     "name": "stderr",
     "output_type": "stream",
     "text": [
      "Created a chunk of size 108, which is longer than the specified 100\n",
      "Created a chunk of size 129, which is longer than the specified 100\n",
      "Created a chunk of size 147, which is longer than the specified 100\n",
      "Created a chunk of size 134, which is longer than the specified 100\n"
     ]
    }
   ],
   "source": [
    "from langchain.text_splitter import NLTKTextSplitter\n",
    "\n",
    "text = \"\"\"The Natural Language Toolkit (NLTK) is a comprehensive Python library for natural language processing (NLP). It provides tools for tokenization, stemming, lemmatization, part-of-speech tagging, parsing, named entity recognition, and more. NLTK includes a wide range of linguistic datasets and corpora, making it a valuable resource for researchers and developers working with text data. While it is user-friendly and excellent for educational purposes, NLTK can be slower compared to more modern NLP libraries like SpaCy. Nonetheless, it remains a powerful tool for text analysis, language modeling, and NLP experimentation.\"\"\"\n",
    "\n",
    "text_splitter = NLTKTextSplitter(chunk_size=100, chunk_overlap = 0)\n",
    "\n",
    "texts = text_splitter.split_text(text)"
   ]
  },
  {
   "cell_type": "code",
   "execution_count": 19,
   "metadata": {},
   "outputs": [
    {
     "data": {
      "text/plain": [
       "['The Natural Language Toolkit (NLTK) is a comprehensive Python library for natural language processing (NLP).',\n",
       " 'It provides tools for tokenization, stemming, lemmatization, part-of-speech tagging, parsing, named entity recognition, and more.',\n",
       " 'NLTK includes a wide range of linguistic datasets and corpora, making it a valuable resource for researchers and developers working with text data.',\n",
       " 'While it is user-friendly and excellent for educational purposes, NLTK can be slower compared to more modern NLP libraries like SpaCy.',\n",
       " 'Nonetheless, it remains a powerful tool for text analysis, language modeling, and NLP experimentation.']"
      ]
     },
     "execution_count": 19,
     "metadata": {},
     "output_type": "execute_result"
    }
   ],
   "source": [
    "texts"
   ]
  },
  {
   "cell_type": "markdown",
   "metadata": {},
   "source": [
    "# Procesamiento de Texto"
   ]
  },
  {
   "cell_type": "code",
   "execution_count": 20,
   "metadata": {},
   "outputs": [
    {
     "name": "stderr",
     "output_type": "stream",
     "text": [
      "[nltk_data] Downloading package punkt to /Users/james/nltk_data...\n",
      "[nltk_data]   Package punkt is already up-to-date!\n",
      "[nltk_data] Downloading package stopwords to /Users/james/nltk_data...\n",
      "[nltk_data]   Unzipping corpora/stopwords.zip.\n"
     ]
    },
    {
     "name": "stdout",
     "output_type": "stream",
     "text": [
      "Tokens: ['El', 'gato', 'juega', 'en', 'el', 'jardín', 'con', 'su', 'dueño', 'Pedro', '.']\n",
      "Sin Stopwords: ['gato', 'juega', 'jardín', 'dueño', 'Pedro', '.']\n",
      "Stemming: ['gato', 'juega', 'jardín', 'dueño', 'pedro', '.']\n",
      "Lematización: ['gato', 'juega', 'jardín', 'dueño', 'Pedro', '.']\n"
     ]
    },
    {
     "name": "stderr",
     "output_type": "stream",
     "text": [
      "[nltk_data] Downloading package wordnet to /Users/james/nltk_data...\n",
      "[nltk_data]   Package wordnet is already up-to-date!\n",
      "[nltk_data] Downloading package averaged_perceptron_tagger to\n",
      "[nltk_data]     /Users/james/nltk_data...\n",
      "[nltk_data]   Package averaged_perceptron_tagger is already up-to-\n",
      "[nltk_data]       date!\n",
      "[nltk_data] Downloading package maxent_ne_chunker to\n",
      "[nltk_data]     /Users/james/nltk_data...\n",
      "[nltk_data]   Package maxent_ne_chunker is already up-to-date!\n",
      "[nltk_data] Downloading package words to /Users/james/nltk_data...\n",
      "[nltk_data]   Package words is already up-to-date!\n"
     ]
    }
   ],
   "source": [
    "import nltk\n",
    "from nltk.tokenize import word_tokenize\n",
    "from nltk.corpus import stopwords\n",
    "from nltk.stem import PorterStemmer, WordNetLemmatizer\n",
    "from nltk import pos_tag, ne_chunk\n",
    "\n",
    "# Descargar recursos necesarios\n",
    "nltk.download('punkt')\n",
    "nltk.download('stopwords')\n",
    "nltk.download('wordnet')\n",
    "nltk.download('averaged_perceptron_tagger')\n",
    "nltk.download('maxent_ne_chunker')\n",
    "nltk.download('words')\n",
    "\n",
    "# Texto de entrada\n",
    "texto = \"El gato juega en el jardín con su dueño Pedro.\"\n",
    "\n",
    "# 1️⃣ Tokenización\n",
    "tokens = word_tokenize(texto)\n",
    "print(\"Tokens:\", tokens)\n",
    "\n",
    "# 2️⃣ Eliminación de Stopwords\n",
    "stop_words = set(stopwords.words('spanish'))\n",
    "tokens_filtrados = [word for word in tokens if word.lower() not in stop_words]\n",
    "print(\"Sin Stopwords:\", tokens_filtrados)\n",
    "\n",
    "# 3️⃣ Stemming y Lematización\n",
    "stemmer = PorterStemmer()\n",
    "lemmatizer = WordNetLemmatizer()\n",
    "\n",
    "tokens_stemmed = [stemmer.stem(word) for word in tokens_filtrados]\n",
    "tokens_lemmatized = [lemmatizer.lemmatize(word, pos=\"v\") for word in tokens_filtrados]\n",
    "\n",
    "print(\"Stemming:\", tokens_stemmed)\n",
    "print(\"Lematización:\", tokens_lemmatized)\n",
    "\n",
    "# 4️⃣ Análisis Semántico (Identificación de entidades)\n",
    "tags = pos_tag(tokens_lemmatized)  # Etiquetado gramatical\n"
   ]
  },
  {
   "cell_type": "code",
   "execution_count": 21,
   "metadata": {},
   "outputs": [
    {
     "data": {
      "text/plain": [
       "[('gato', 'NN'),\n",
       " ('juega', 'NN'),\n",
       " ('jardín', 'NN'),\n",
       " ('dueño', 'NN'),\n",
       " ('Pedro', 'NNP'),\n",
       " ('.', '.')]"
      ]
     },
     "execution_count": 21,
     "metadata": {},
     "output_type": "execute_result"
    }
   ],
   "source": [
    "tags"
   ]
  },
  {
   "cell_type": "code",
   "execution_count": null,
   "metadata": {},
   "outputs": [],
   "source": []
  }
 ],
 "metadata": {
  "kernelspec": {
   "display_name": ".venv",
   "language": "python",
   "name": "python3"
  },
  "language_info": {
   "codemirror_mode": {
    "name": "ipython",
    "version": 3
   },
   "file_extension": ".py",
   "mimetype": "text/x-python",
   "name": "python",
   "nbconvert_exporter": "python",
   "pygments_lexer": "ipython3",
   "version": "3.10.12"
  }
 },
 "nbformat": 4,
 "nbformat_minor": 2
}
