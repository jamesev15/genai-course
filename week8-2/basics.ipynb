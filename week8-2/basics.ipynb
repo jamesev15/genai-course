{
 "cells": [
  {
   "cell_type": "code",
   "execution_count": 1,
   "metadata": {},
   "outputs": [
    {
     "data": {
      "text/plain": [
       "True"
      ]
     },
     "execution_count": 1,
     "metadata": {},
     "output_type": "execute_result"
    }
   ],
   "source": [
    "from dotenv import load_dotenv\n",
    "\n",
    "load_dotenv()"
   ]
  },
  {
   "cell_type": "markdown",
   "metadata": {},
   "source": [
    "# Let's take a look over Documents"
   ]
  },
  {
   "cell_type": "code",
   "execution_count": 3,
   "metadata": {},
   "outputs": [],
   "source": [
    "from llama_index.core import Document, VectorStoreIndex\n",
    "\n",
    "text_list = [\"mi nombre es james\", \"vivo en Perú\", \"amo a los perros\"]\n",
    "documents = [Document(text=t) for t in text_list]\n",
    "\n",
    "index = VectorStoreIndex.from_documents(documents)"
   ]
  },
  {
   "cell_type": "code",
   "execution_count": 4,
   "metadata": {},
   "outputs": [],
   "source": [
    "query_engine = index.as_query_engine()"
   ]
  },
  {
   "cell_type": "code",
   "execution_count": 6,
   "metadata": {},
   "outputs": [
    {
     "data": {
      "text/plain": [
       "'James era un hombre apasionado por los perros. Pasaba sus días rodeado de sus fieles compañeros de cuatro patas, disfrutando de largos paseos por el parque y jugando con ellos en el jardín. Su amor por los perros era tan grande que dedicaba su tiempo libre a cuidar de ellos y asegurarse de que estuvieran felices y saludables. La gente de su vecindario lo conocía como el amante de los perros, y siempre podían verlo sonriendo mientras interactuaba con sus mascotas. Para James, no había mayor alegría que la compañía de sus queridos amigos peludos.'"
      ]
     },
     "execution_count": 6,
     "metadata": {},
     "output_type": "execute_result"
    }
   ],
   "source": [
    "str(query_engine.query(\"haz una historia sobre james\"))"
   ]
  },
  {
   "cell_type": "code",
   "execution_count": 16,
   "metadata": {},
   "outputs": [],
   "source": [
    "from llama_index.core.node_parser import SentenceSplitter\n",
    "\n",
    "text = 'James era un hombre apasionado por los perros. Pasaba sus días rodeado de sus fieles compañeros de cuatro patas, disfrutando de largos paseos por el parque y jugando con ellos en el jardín. Su amor por los perros era tan grande que dedicaba su tiempo libre a cuidar de ellos y asegurarse de que estuvieran felices y saludables. La gente de su vecindario lo conocía como el amante de los perros, y siempre podían verlo sonriendo mientras interactuaba con sus mascotas. Para James, no había mayor alegría que la compañía de sus queridos amigos peludos.'\n",
    "\n",
    "parser = SentenceSplitter(separator=\".\", chunk_size=50, chunk_overlap=2)\n",
    "nodes = parser.get_nodes_from_documents([Document(text=text)])\n"
   ]
  },
  {
   "cell_type": "code",
   "execution_count": 17,
   "metadata": {},
   "outputs": [
    {
     "data": {
      "text/plain": [
       "[TextNode(id_='e2e42a4d-154a-44e7-a65d-bcd052f292cb', embedding=None, metadata={}, excluded_embed_metadata_keys=[], excluded_llm_metadata_keys=[], relationships={<NodeRelationship.SOURCE: '1'>: RelatedNodeInfo(node_id='07142060-b3c6-4934-88bf-02d59a2dc496', node_type=<ObjectType.DOCUMENT: '4'>, metadata={}, hash='50d62da08662d75145f3fa3ec0a59554fb5b3a9d5c0e4b0c59aa4185064ca1bf'), <NodeRelationship.NEXT: '3'>: RelatedNodeInfo(node_id='dd4c1be6-6eea-4a08-97e3-49dbf83a5e85', node_type=<ObjectType.TEXT: '1'>, metadata={}, hash='1d594f8b38d1e294e67f539a1f9e63c98aef613a09d5bb82b8da3aed90f98f6f')}, metadata_template='{key}: {value}', metadata_separator='\\n', text='James era un hombre apasionado por los perros.', mimetype='text/plain', start_char_idx=0, end_char_idx=46, metadata_seperator='\\n', text_template='{metadata_str}\\n\\n{content}'),\n",
       " TextNode(id_='dd4c1be6-6eea-4a08-97e3-49dbf83a5e85', embedding=None, metadata={}, excluded_embed_metadata_keys=[], excluded_llm_metadata_keys=[], relationships={<NodeRelationship.SOURCE: '1'>: RelatedNodeInfo(node_id='07142060-b3c6-4934-88bf-02d59a2dc496', node_type=<ObjectType.DOCUMENT: '4'>, metadata={}, hash='50d62da08662d75145f3fa3ec0a59554fb5b3a9d5c0e4b0c59aa4185064ca1bf'), <NodeRelationship.PREVIOUS: '2'>: RelatedNodeInfo(node_id='e2e42a4d-154a-44e7-a65d-bcd052f292cb', node_type=<ObjectType.TEXT: '1'>, metadata={}, hash='36cf68623ae74d1a94af4369d50747370da611fdc972e218278c59ed84f0bd11'), <NodeRelationship.NEXT: '3'>: RelatedNodeInfo(node_id='3a82b85c-8b7f-45ce-bcb5-f67536320438', node_type=<ObjectType.TEXT: '1'>, metadata={}, hash='8d710011e4f44fbca0b167e3cbc74a6276005aaf4511136cc3b359c5988a4898')}, metadata_template='{key}: {value}', metadata_separator='\\n', text='Pasaba sus días rodeado de sus fieles compañeros de cuatro patas, disfrutando de largos paseos por el parque y jugando con ellos en el jardín.', mimetype='text/plain', start_char_idx=47, end_char_idx=189, metadata_seperator='\\n', text_template='{metadata_str}\\n\\n{content}'),\n",
       " TextNode(id_='3a82b85c-8b7f-45ce-bcb5-f67536320438', embedding=None, metadata={}, excluded_embed_metadata_keys=[], excluded_llm_metadata_keys=[], relationships={<NodeRelationship.SOURCE: '1'>: RelatedNodeInfo(node_id='07142060-b3c6-4934-88bf-02d59a2dc496', node_type=<ObjectType.DOCUMENT: '4'>, metadata={}, hash='50d62da08662d75145f3fa3ec0a59554fb5b3a9d5c0e4b0c59aa4185064ca1bf'), <NodeRelationship.PREVIOUS: '2'>: RelatedNodeInfo(node_id='dd4c1be6-6eea-4a08-97e3-49dbf83a5e85', node_type=<ObjectType.TEXT: '1'>, metadata={}, hash='1d594f8b38d1e294e67f539a1f9e63c98aef613a09d5bb82b8da3aed90f98f6f'), <NodeRelationship.NEXT: '3'>: RelatedNodeInfo(node_id='57e54422-a829-4590-9b91-3160cda94e8a', node_type=<ObjectType.TEXT: '1'>, metadata={}, hash='255bab843fa92fba36d6468fd9d249ce7ec82e01914857fe5e7c1c6365f1c7a4')}, metadata_template='{key}: {value}', metadata_separator='\\n', text='Su amor por los perros era tan grande que dedicaba su tiempo libre a cuidar de ellos y asegurarse de que estuvieran felices y saludables.', mimetype='text/plain', start_char_idx=190, end_char_idx=327, metadata_seperator='\\n', text_template='{metadata_str}\\n\\n{content}'),\n",
       " TextNode(id_='57e54422-a829-4590-9b91-3160cda94e8a', embedding=None, metadata={}, excluded_embed_metadata_keys=[], excluded_llm_metadata_keys=[], relationships={<NodeRelationship.SOURCE: '1'>: RelatedNodeInfo(node_id='07142060-b3c6-4934-88bf-02d59a2dc496', node_type=<ObjectType.DOCUMENT: '4'>, metadata={}, hash='50d62da08662d75145f3fa3ec0a59554fb5b3a9d5c0e4b0c59aa4185064ca1bf'), <NodeRelationship.PREVIOUS: '2'>: RelatedNodeInfo(node_id='3a82b85c-8b7f-45ce-bcb5-f67536320438', node_type=<ObjectType.TEXT: '1'>, metadata={}, hash='8d710011e4f44fbca0b167e3cbc74a6276005aaf4511136cc3b359c5988a4898'), <NodeRelationship.NEXT: '3'>: RelatedNodeInfo(node_id='e5f61bea-eb5d-43e4-8b25-c67f3789eb9c', node_type=<ObjectType.TEXT: '1'>, metadata={}, hash='680f19fbec6cfcb5bc4aa8e36b21b7eb22290773c4cde550f88c9b3e6bcb2f1d')}, metadata_template='{key}: {value}', metadata_separator='\\n', text='La gente de su vecindario lo conocía como el amante de los perros, y siempre podían verlo sonriendo mientras interactuaba con sus mascotas.', mimetype='text/plain', start_char_idx=328, end_char_idx=467, metadata_seperator='\\n', text_template='{metadata_str}\\n\\n{content}'),\n",
       " TextNode(id_='e5f61bea-eb5d-43e4-8b25-c67f3789eb9c', embedding=None, metadata={}, excluded_embed_metadata_keys=[], excluded_llm_metadata_keys=[], relationships={<NodeRelationship.SOURCE: '1'>: RelatedNodeInfo(node_id='07142060-b3c6-4934-88bf-02d59a2dc496', node_type=<ObjectType.DOCUMENT: '4'>, metadata={}, hash='50d62da08662d75145f3fa3ec0a59554fb5b3a9d5c0e4b0c59aa4185064ca1bf'), <NodeRelationship.PREVIOUS: '2'>: RelatedNodeInfo(node_id='57e54422-a829-4590-9b91-3160cda94e8a', node_type=<ObjectType.TEXT: '1'>, metadata={}, hash='255bab843fa92fba36d6468fd9d249ce7ec82e01914857fe5e7c1c6365f1c7a4')}, metadata_template='{key}: {value}', metadata_separator='\\n', text='Para James, no había mayor alegría que la compañía de sus queridos amigos peludos.', mimetype='text/plain', start_char_idx=468, end_char_idx=550, metadata_seperator='\\n', text_template='{metadata_str}\\n\\n{content}')]"
      ]
     },
     "execution_count": 17,
     "metadata": {},
     "output_type": "execute_result"
    }
   ],
   "source": [
    "nodes"
   ]
  },
  {
   "cell_type": "code",
   "execution_count": 18,
   "metadata": {},
   "outputs": [],
   "source": [
    "index = VectorStoreIndex(nodes)"
   ]
  },
  {
   "cell_type": "code",
   "execution_count": 21,
   "metadata": {},
   "outputs": [],
   "source": [
    "query_engine = index.as_query_engine()"
   ]
  },
  {
   "cell_type": "code",
   "execution_count": 22,
   "metadata": {},
   "outputs": [
    {
     "data": {
      "text/plain": [
       "Response(response='James es un hombre apasionado por los perros.', source_nodes=[NodeWithScore(node=TextNode(id_='e2e42a4d-154a-44e7-a65d-bcd052f292cb', embedding=None, metadata={}, excluded_embed_metadata_keys=[], excluded_llm_metadata_keys=[], relationships={<NodeRelationship.SOURCE: '1'>: RelatedNodeInfo(node_id='07142060-b3c6-4934-88bf-02d59a2dc496', node_type='4', metadata={}, hash='50d62da08662d75145f3fa3ec0a59554fb5b3a9d5c0e4b0c59aa4185064ca1bf'), <NodeRelationship.NEXT: '3'>: RelatedNodeInfo(node_id='dd4c1be6-6eea-4a08-97e3-49dbf83a5e85', node_type='1', metadata={}, hash='1d594f8b38d1e294e67f539a1f9e63c98aef613a09d5bb82b8da3aed90f98f6f')}, metadata_template='{key}: {value}', metadata_separator='\\n', text='James era un hombre apasionado por los perros.', mimetype='text/plain', start_char_idx=0, end_char_idx=46, metadata_seperator='\\n', text_template='{metadata_str}\\n\\n{content}'), score=0.84425041028275), NodeWithScore(node=TextNode(id_='e5f61bea-eb5d-43e4-8b25-c67f3789eb9c', embedding=None, metadata={}, excluded_embed_metadata_keys=[], excluded_llm_metadata_keys=[], relationships={<NodeRelationship.SOURCE: '1'>: RelatedNodeInfo(node_id='07142060-b3c6-4934-88bf-02d59a2dc496', node_type='4', metadata={}, hash='50d62da08662d75145f3fa3ec0a59554fb5b3a9d5c0e4b0c59aa4185064ca1bf'), <NodeRelationship.PREVIOUS: '2'>: RelatedNodeInfo(node_id='57e54422-a829-4590-9b91-3160cda94e8a', node_type='1', metadata={}, hash='255bab843fa92fba36d6468fd9d249ce7ec82e01914857fe5e7c1c6365f1c7a4')}, metadata_template='{key}: {value}', metadata_separator='\\n', text='Para James, no había mayor alegría que la compañía de sus queridos amigos peludos.', mimetype='text/plain', start_char_idx=468, end_char_idx=550, metadata_seperator='\\n', text_template='{metadata_str}\\n\\n{content}'), score=0.8315135589019018)], metadata={'e2e42a4d-154a-44e7-a65d-bcd052f292cb': {}, 'e5f61bea-eb5d-43e4-8b25-c67f3789eb9c': {}})"
      ]
     },
     "execution_count": 22,
     "metadata": {},
     "output_type": "execute_result"
    }
   ],
   "source": [
    "query_engine.query(\"¿quien es james?\")"
   ]
  },
  {
   "cell_type": "code",
   "execution_count": null,
   "metadata": {},
   "outputs": [],
   "source": []
  }
 ],
 "metadata": {
  "kernelspec": {
   "display_name": ".venv",
   "language": "python",
   "name": "python3"
  },
  "language_info": {
   "codemirror_mode": {
    "name": "ipython",
    "version": 3
   },
   "file_extension": ".py",
   "mimetype": "text/x-python",
   "name": "python",
   "nbconvert_exporter": "python",
   "pygments_lexer": "ipython3",
   "version": "3.10.12"
  }
 },
 "nbformat": 4,
 "nbformat_minor": 2
}
