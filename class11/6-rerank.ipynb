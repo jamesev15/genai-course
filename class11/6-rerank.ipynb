{
 "cells": [
  {
   "cell_type": "markdown",
   "metadata": {},
   "source": [
    "# Rerankers"
   ]
  },
  {
   "cell_type": "code",
   "execution_count": 1,
   "metadata": {},
   "outputs": [
    {
     "name": "stderr",
     "output_type": "stream",
     "text": [
      "/Users/james/Documents/idat/genai-course/.venv/lib/python3.10/site-packages/tqdm/auto.py:21: TqdmWarning: IProgress not found. Please update jupyter and ipywidgets. See https://ipywidgets.readthedocs.io/en/stable/user_install.html\n",
      "  from .autonotebook import tqdm as notebook_tqdm\n",
      "You're using a XLMRobertaTokenizerFast tokenizer. Please note that with a fast tokenizer, using the `__call__` method is faster than using a method to encode the text followed by a call to the `pad` method to get a padded encoding.\n"
     ]
    },
    {
     "name": "stdout",
     "output_type": "stream",
     "text": [
      "[-5.6484375]\n",
      "[0.003510649113774665]\n",
      "[-8.1875, 5.26171875]\n",
      "[0.00027803096387751553, 0.9948403768236574]\n"
     ]
    }
   ],
   "source": [
    "from FlagEmbedding import FlagReranker\n",
    "reranker = FlagReranker('BAAI/bge-reranker-v2-m3', use_fp16=True) # Setting use_fp16 to True speeds up computation with a slight performance degradation\n",
    "\n",
    "score = reranker.compute_score(['query', 'passage'])\n",
    "print(score) # -5.65234375\n",
    "\n",
    "# You can map the scores into 0-1 by set \"normalize=True\", which will apply sigmoid function to the score\n",
    "score = reranker.compute_score(['query', 'passage'], normalize=True)\n",
    "print(score) # 0.003497010252573502\n",
    "\n",
    "scores = reranker.compute_score([['what is panda?', 'hi'], ['what is panda?', 'The giant panda (Ailuropoda melanoleuca), sometimes called a panda bear or simply panda, is a bear species endemic to China.']])\n",
    "print(scores) # [-8.1875, 5.26171875]\n",
    "\n",
    "# You can map the scores into 0-1 by set \"normalize=True\", which will apply sigmoid function to the score\n",
    "scores = reranker.compute_score([['what is panda?', 'hi'], ['what is panda?', 'The giant panda (Ailuropoda melanoleuca), sometimes called a panda bear or simply panda, is a bear species endemic to China.']], normalize=True)\n",
    "print(scores) # [0.00027803096387751553, 0.9948403768236574]\n"
   ]
  },
  {
   "cell_type": "markdown",
   "metadata": {},
   "source": [
    "# Let's try with our db"
   ]
  },
  {
   "cell_type": "code",
   "execution_count": 15,
   "metadata": {},
   "outputs": [
    {
     "data": {
      "text/plain": [
       "True"
      ]
     },
     "execution_count": 15,
     "metadata": {},
     "output_type": "execute_result"
    }
   ],
   "source": [
    "from dotenv import load_dotenv\n",
    "\n",
    "load_dotenv()"
   ]
  },
  {
   "cell_type": "code",
   "execution_count": 4,
   "metadata": {},
   "outputs": [],
   "source": [
    "import os\n",
    "from langchain_qdrant import QdrantVectorStore\n",
    "from qdrant_client import QdrantClient\n",
    "from langchain_openai import OpenAIEmbeddings\n",
    "\n",
    "url = \"https://e7f4684c-fd33-4db0-b1d3-268870ecb84d.europe-west3-0.gcp.cloud.qdrant.io:6333\"\n",
    "api_key = os.getenv(\"QDRANT_API_KEY\")\n",
    "\n",
    "\n",
    "client = QdrantClient(\n",
    "    url=url,\n",
    "    api_key=api_key,\n",
    "    https=True,\n",
    "    timeout=300\n",
    ")\n",
    "\n",
    "vector_store_page = QdrantVectorStore(\n",
    "    client=client,\n",
    "    collection_name=\"db-book-page\",\n",
    "    embedding=OpenAIEmbeddings(model=\"text-embedding-ada-002\"),\n",
    ")"
   ]
  },
  {
   "cell_type": "code",
   "execution_count": 5,
   "metadata": {},
   "outputs": [],
   "source": [
    "retriever = vector_store_page.as_retriever(search_kwargs={\"k\": 5})"
   ]
  },
  {
   "cell_type": "code",
   "execution_count": 6,
   "metadata": {},
   "outputs": [],
   "source": [
    "query = \"quién es susan fletcher?\"\n",
    "\n",
    "docs = retriever.invoke(input=query)"
   ]
  },
  {
   "cell_type": "code",
   "execution_count": 7,
   "metadata": {},
   "outputs": [
    {
     "data": {
      "text/plain": [
       "[Document(metadata={'source': 'data/fortaleza-digital.pdf', 'page': 104, 'page_label': '105', '_id': '87bd3f3c-cced-4c43-8ec4-0aeb7dbcda78', '_collection_name': 'db-book-page'}, page_content='había tocado antes. No era el primer contacto que Hale había imaginado, pero ya\\nera un principio. Le dirigió una mirada perpleja y regresó con parsimonia a su\\nterminal. Mientras se sentaba, una cosa quedó muy clara: la encantadora Susan\\nFletcher estaba trabajando en algo importante, y seguro que no se trataba de un\\ndiagnóstico.'),\n",
       " Document(metadata={'source': 'data/fortaleza-digital.pdf', 'page': 2, 'page_label': '3', '_id': '64fd3506-ba62-4f1f-8dee-733f6d43321e', '_collection_name': 'db-book-page'}, page_content='Susan Fletcher, la criptógrafa estrella de la ultrasecreta Agencia de\\nSeguridad Nacional (NSA) no puede dar crédito a sus oídos cuando su jefe,\\nel subdirector de la Agencia, le informa de que han interceptado un código\\nque ni siquiera la mayor supercomputadora conocida puede descifrar. La\\núnica pista para romper el letal código parece estar oculta en el cadáver de\\nun hombre que ha fallecido en España, donde ha sido enviado David, el\\nprometido de Susan. Mientras éste intenta hallar la clave y sobrevivir a la\\npersecución de un metódico e implacable asesino a sueldo en las calles de\\nSevilla, Susan se enfrentará a su propio drama en las instalaciones de\\nmáxima seguridad de la NSA, durante una larga noche en la que la mentira\\ny el asesinato acechan tras cada puerta.'),\n",
       " Document(metadata={'source': 'data/fortaleza-digital.pdf', 'page': 301, 'page_label': '302', '_id': 'bc520e95-7b34-4b30-9312-144387ad6e10', '_collection_name': 'db-book-page'}, page_content='—Lo sé —se oyó gemir Susan.\\n—Necesitamos su ayuda.\\nElla reprimió las lágrimas.\\n—Strathmore… Él…\\n—Lo sabemos —interrumpió Brinkerhoff—. Se saltó Manopla.\\n—Sí, y…\\nLas palabras se le atragantaron. \\n¡Mató a David!\\nBrinkerhoff apoyó una mano sobre su hombro.\\n—Casi hemos llegado, señorita Fletcher. Resista.\\nEl carrito de golf Kensington de alta velocidad dobló una esquina y frenó. Al\\nlado se extendía un pasillo perpendicular al túnel iluminado por luces rojas en el\\nsuelo.\\n—Venga —dijo Brinkerhoff al tiempo que la ayudaba a bajar.\\nLa guió hasta el pasillo. Susan lo seguía envuelta en una niebla. El corredor\\nembaldosado tenía una pendiente que se inclinaba de manera pronunciada. Susan\\nse aferró a la barandilla y siguió a Brinkerhoff. El aire empezó a ser más frío.\\nContinuaron bajando.\\nA medida que se adentraban más en la tierra, el túnel se estrechaba. El eco de\\nunos pasos sonó a sus espaldas, un paso fuerte y decidido. Los pasos aumentaron\\nde intensidad. Tanto Brinkerhoff como Susan se volvieron a mirar.\\nUn enorme negro caminaba hacia ellos. Susan no le había visto nunca.\\nCuando se acercó, le dirigió una mirada penetrante.\\n—¿Quién es ésta? —preguntó.\\n—Susan Fletcher —contestó Brinkerhoff.\\nEl enorme hombre arqueó las cejas. Aun cubierta de hollín y empapada,\\nSusan Fletcher era más atractiva de lo que había imaginado.\\n—¿Y el comandante? —preguntó.\\nBrinkerhoff sacudió la cabeza.\\nEl hombre no dijo nada. Desvió la vista un momento. Después se volvió hacia\\nSusan.\\n—Leland Fontaine —dijo, y extendió la mano—. Me alegro de que esté bien.\\nSusan le miró fijamente. Siempre había sabido que algún día conocería al\\ndirector, pero no había imaginado que sería en circunstancias como ésas.\\n—Acompáñeme, señorita Fletcher —dijo Fontaine—. Necesitamos toda la\\nayuda posible.\\nUna pared de acero cortaba el paso al final del túnel. Fontaine se acercó y\\ntecleó un código de entrada en una caja empotrada. Después apoyó la mano'),\n",
       " Document(metadata={'source': 'data/fortaleza-digital.pdf', 'page': 12, 'page_label': '13', '_id': 'd7302cb0-c6a2-452c-9398-3e8dc4f2816b', '_collection_name': 'db-book-page'}, page_content='parecía distante hoy, pero sus mejillas exhibían una frescura rubicunda, y el pelo\\ncastaño rojizo, largo hasta los hombros, parecía recién secado. Detrás de ella\\nflotaba en el aire la fragancia de jabón Johnson para bebés. La mirada del\\nguarda se regodeó en su esbelto torso, la blusa blanca que transparentaba el\\nsujetador, la falda caqui larga hasta las rodillas, y por fin sus piernas… Las\\npiernas de Susan Fletcher.\\nCuesta imaginar que sostienen un Cociente de Inteligencia de 170\\n, pensó para\\nsí.\\nLa siguió con la mirada durante varios minutos. Por fin, meneó la cabeza\\ncuando ella desapareció en la distancia.\\nCuando Susan llegó al final del túnel, una puerta circular, como la de una\\ncámara acorazada, le cortó el paso. Las enormes letras anunciaban:\\nCRIPTOGRAFÍA.\\nSuspiró e introdujo la mano en el escáner empotrado en la pared y tecleó su\\nnúmero PIN de cinco dígitos. Segundos después, la hoja de acero de doce\\ntoneladas de peso empezó a girar. Intentó concentrarse, pero no podía quitárselo\\nde la cabeza.\\nDavid Becker. El único hombre al que había amado. El profesor más joven de\\nla Universidad de Georgetown y brillante especialista en idiomas extranjeros,\\nuna celebridad en el mundo académico. Con memoria fotográfica innata y\\npasión por los idiomas, dominaba seis dialectos asiáticos, además del español,\\nfrancés e italiano. Sus conferencias sobre etimología y lingüística llenaban a\\nrebosar las aulas, y no se marchaba hasta haber contestado todas las preguntas.\\nHablaba con autoridad y entusiasmo, ignorando, en apariencia, las miradas\\nadoradoras de sus alumnas.\\nBecker, moreno y robusto, tenía treinta y cinco juveniles años, penetrantes\\nojos verdes e ingenio sin igual. Su mandíbula firme y facciones bien dibujadas\\nrecordaban a Susan una talla de mármol. A pesar de su metro ochenta y algo de\\nestatura, Becker se movía en la pista de squash con más rapidez que cualquiera\\nde sus colegas. Después de derrotar a sus contrincantes, se refrescaba mojándose\\nla cabeza en un surtidor y empapando su tupida cabellera negra. A continuación,\\ntodavía goteando, invitaba a su oponente a un batido de frutas y un \\nbagel\\n.\\nEl sueldo de David —como era el caso de todos los profesores jóvenes— era\\nmodesto. De vez en cuando, si necesitaba renovar su carné del club de squash o\\ncambiar las cuerdas de su vieja raqueta Dunlop, se ganaba un dinero extra\\nhaciendo traducciones para organismos gubernamentales de Washington y\\nalrededores. Estaba realizando uno de esos encargos cuando conoció a Susan.\\nUna fresca mañana de otoño, al regresar Becker, después de correr, a su\\napartamento de tres habitaciones de la facultad, la luz del contestador automático'),\n",
       " Document(metadata={'source': 'data/fortaleza-digital.pdf', 'page': 15, 'page_label': '16', '_id': '2ea2bb3d-6867-44bc-8500-15690b7ad3a2', '_collection_name': 'db-book-page'}, page_content='—¿Jefa?\\nBecker lanzó una carcajada. Aún no había visto a ninguna mujer en la NSA.\\n—¿Representa eso algún problema para usted? —preguntó una voz femenina\\ntras él.\\nBecker se volvió y enrojeció de inmediato. Echó un vistazo a la tarjeta de\\nidentificación prendida en la blusa de la mujer. La jefa de la División de\\nCriptografía de la NSA no sólo era una mujer, sino que además era una mujer\\nmuy atractiva.\\n—No —masculló Becker—. Es que…\\n—Susan Fletcher.\\nLa mujer sonrió y extendió su fina mano.\\nBecker la estrechó.\\n—David Becker.\\n—Le felicito, señor Becker. Me han dicho que ha hecho un trabajo excelente.\\n¿Podríamos hablar al respecto?\\nBecker vaciló.\\n—La verdad es que tengo un poco de prisa.\\nConfiaba en que desdeñar a la agencia de inteligencia más poderosa del\\nmundo no sería una estupidez, pero su partido de squash empezaba dentro de tres\\ncuartos de hora, y tenía que cuidar su reputación: David Becker nunca llegaba\\ntarde al squash. A clase tal vez, pero al squash nunca.\\n—Seré breve —sonrió Susan Fletcher—. Sígame, por favor.\\nDiez minutos después, Becker estaba en la cantina de la NSA disfrutando de\\nun \\nmuffin\\n y zumo de arándanos en compañía de la encantadora jefa de\\nCriptografía. Pronto fue evidente para David que el cargo elevado de la mujer de\\ntreinta y ocho años no era fruto de la casualidad. Era una de las mujeres más\\ninteligentes que había conocido.\\nMientras hablaban de códigos y de desciframiento de los mismos, Becker se\\ndescubrió pugnando por no quedarse atrás, una experiencia nueva y emocionante\\npara él.\\nUna hora más tarde, después de que Becker se hubiera perdido el partido de\\nsquash, y Susan hubiera hecho caso omiso de las tres llamadas que recibió por el\\nintercomunicador, los dos no tuvieron más remedio que reír. Eran dos mentes\\nanalíticas, inmunes en teoría a encaprichamientos irracionales, pero de alguna\\nmanera, mientras hablaban de morfología lingüística y generadores de cifras\\nseudofortuitos, se sentían como un pareja de adolescentes enamorados.\\nSusan no llegó a revelar el verdadero motivo de que hubiera querido hablar\\ncon David Becker: ofrecerle un puesto a prueba en la División de Criptografía\\nAsiática. Estaba claro, a juzgar por la pasión con que hablaba de la enseñanza el\\njoven profesor, que nunca dejaría la universidad. Susan decidió no estropear la\\natmósfera cordial hablando de trabajo. Se sentía de nuevo como una colegiala.')]"
      ]
     },
     "execution_count": 7,
     "metadata": {},
     "output_type": "execute_result"
    }
   ],
   "source": [
    "docs"
   ]
  },
  {
   "cell_type": "code",
   "execution_count": 10,
   "metadata": {},
   "outputs": [],
   "source": [
    "to_rerank = []\n",
    "for doc in docs:\n",
    "    to_rerank.append((query, doc.page_content))"
   ]
  },
  {
   "cell_type": "code",
   "execution_count": 11,
   "metadata": {},
   "outputs": [
    {
     "data": {
      "text/plain": [
       "[('quién es susan fletcher?',\n",
       "  'había tocado antes. No era el primer contacto que Hale había imaginado, pero ya\\nera un principio. Le dirigió una mirada perpleja y regresó con parsimonia a su\\nterminal. Mientras se sentaba, una cosa quedó muy clara: la encantadora Susan\\nFletcher estaba trabajando en algo importante, y seguro que no se trataba de un\\ndiagnóstico.'),\n",
       " ('quién es susan fletcher?',\n",
       "  'Susan Fletcher, la criptógrafa estrella de la ultrasecreta Agencia de\\nSeguridad Nacional (NSA) no puede dar crédito a sus oídos cuando su jefe,\\nel subdirector de la Agencia, le informa de que han interceptado un código\\nque ni siquiera la mayor supercomputadora conocida puede descifrar. La\\núnica pista para romper el letal código parece estar oculta en el cadáver de\\nun hombre que ha fallecido en España, donde ha sido enviado David, el\\nprometido de Susan. Mientras éste intenta hallar la clave y sobrevivir a la\\npersecución de un metódico e implacable asesino a sueldo en las calles de\\nSevilla, Susan se enfrentará a su propio drama en las instalaciones de\\nmáxima seguridad de la NSA, durante una larga noche en la que la mentira\\ny el asesinato acechan tras cada puerta.'),\n",
       " ('quién es susan fletcher?',\n",
       "  '—Lo sé —se oyó gemir Susan.\\n—Necesitamos su ayuda.\\nElla reprimió las lágrimas.\\n—Strathmore… Él…\\n—Lo sabemos —interrumpió Brinkerhoff—. Se saltó Manopla.\\n—Sí, y…\\nLas palabras se le atragantaron. \\n¡Mató a David!\\nBrinkerhoff apoyó una mano sobre su hombro.\\n—Casi hemos llegado, señorita Fletcher. Resista.\\nEl carrito de golf Kensington de alta velocidad dobló una esquina y frenó. Al\\nlado se extendía un pasillo perpendicular al túnel iluminado por luces rojas en el\\nsuelo.\\n—Venga —dijo Brinkerhoff al tiempo que la ayudaba a bajar.\\nLa guió hasta el pasillo. Susan lo seguía envuelta en una niebla. El corredor\\nembaldosado tenía una pendiente que se inclinaba de manera pronunciada. Susan\\nse aferró a la barandilla y siguió a Brinkerhoff. El aire empezó a ser más frío.\\nContinuaron bajando.\\nA medida que se adentraban más en la tierra, el túnel se estrechaba. El eco de\\nunos pasos sonó a sus espaldas, un paso fuerte y decidido. Los pasos aumentaron\\nde intensidad. Tanto Brinkerhoff como Susan se volvieron a mirar.\\nUn enorme negro caminaba hacia ellos. Susan no le había visto nunca.\\nCuando se acercó, le dirigió una mirada penetrante.\\n—¿Quién es ésta? —preguntó.\\n—Susan Fletcher —contestó Brinkerhoff.\\nEl enorme hombre arqueó las cejas. Aun cubierta de hollín y empapada,\\nSusan Fletcher era más atractiva de lo que había imaginado.\\n—¿Y el comandante? —preguntó.\\nBrinkerhoff sacudió la cabeza.\\nEl hombre no dijo nada. Desvió la vista un momento. Después se volvió hacia\\nSusan.\\n—Leland Fontaine —dijo, y extendió la mano—. Me alegro de que esté bien.\\nSusan le miró fijamente. Siempre había sabido que algún día conocería al\\ndirector, pero no había imaginado que sería en circunstancias como ésas.\\n—Acompáñeme, señorita Fletcher —dijo Fontaine—. Necesitamos toda la\\nayuda posible.\\nUna pared de acero cortaba el paso al final del túnel. Fontaine se acercó y\\ntecleó un código de entrada en una caja empotrada. Después apoyó la mano'),\n",
       " ('quién es susan fletcher?',\n",
       "  'parecía distante hoy, pero sus mejillas exhibían una frescura rubicunda, y el pelo\\ncastaño rojizo, largo hasta los hombros, parecía recién secado. Detrás de ella\\nflotaba en el aire la fragancia de jabón Johnson para bebés. La mirada del\\nguarda se regodeó en su esbelto torso, la blusa blanca que transparentaba el\\nsujetador, la falda caqui larga hasta las rodillas, y por fin sus piernas… Las\\npiernas de Susan Fletcher.\\nCuesta imaginar que sostienen un Cociente de Inteligencia de 170\\n, pensó para\\nsí.\\nLa siguió con la mirada durante varios minutos. Por fin, meneó la cabeza\\ncuando ella desapareció en la distancia.\\nCuando Susan llegó al final del túnel, una puerta circular, como la de una\\ncámara acorazada, le cortó el paso. Las enormes letras anunciaban:\\nCRIPTOGRAFÍA.\\nSuspiró e introdujo la mano en el escáner empotrado en la pared y tecleó su\\nnúmero PIN de cinco dígitos. Segundos después, la hoja de acero de doce\\ntoneladas de peso empezó a girar. Intentó concentrarse, pero no podía quitárselo\\nde la cabeza.\\nDavid Becker. El único hombre al que había amado. El profesor más joven de\\nla Universidad de Georgetown y brillante especialista en idiomas extranjeros,\\nuna celebridad en el mundo académico. Con memoria fotográfica innata y\\npasión por los idiomas, dominaba seis dialectos asiáticos, además del español,\\nfrancés e italiano. Sus conferencias sobre etimología y lingüística llenaban a\\nrebosar las aulas, y no se marchaba hasta haber contestado todas las preguntas.\\nHablaba con autoridad y entusiasmo, ignorando, en apariencia, las miradas\\nadoradoras de sus alumnas.\\nBecker, moreno y robusto, tenía treinta y cinco juveniles años, penetrantes\\nojos verdes e ingenio sin igual. Su mandíbula firme y facciones bien dibujadas\\nrecordaban a Susan una talla de mármol. A pesar de su metro ochenta y algo de\\nestatura, Becker se movía en la pista de squash con más rapidez que cualquiera\\nde sus colegas. Después de derrotar a sus contrincantes, se refrescaba mojándose\\nla cabeza en un surtidor y empapando su tupida cabellera negra. A continuación,\\ntodavía goteando, invitaba a su oponente a un batido de frutas y un \\nbagel\\n.\\nEl sueldo de David —como era el caso de todos los profesores jóvenes— era\\nmodesto. De vez en cuando, si necesitaba renovar su carné del club de squash o\\ncambiar las cuerdas de su vieja raqueta Dunlop, se ganaba un dinero extra\\nhaciendo traducciones para organismos gubernamentales de Washington y\\nalrededores. Estaba realizando uno de esos encargos cuando conoció a Susan.\\nUna fresca mañana de otoño, al regresar Becker, después de correr, a su\\napartamento de tres habitaciones de la facultad, la luz del contestador automático'),\n",
       " ('quién es susan fletcher?',\n",
       "  '—¿Jefa?\\nBecker lanzó una carcajada. Aún no había visto a ninguna mujer en la NSA.\\n—¿Representa eso algún problema para usted? —preguntó una voz femenina\\ntras él.\\nBecker se volvió y enrojeció de inmediato. Echó un vistazo a la tarjeta de\\nidentificación prendida en la blusa de la mujer. La jefa de la División de\\nCriptografía de la NSA no sólo era una mujer, sino que además era una mujer\\nmuy atractiva.\\n—No —masculló Becker—. Es que…\\n—Susan Fletcher.\\nLa mujer sonrió y extendió su fina mano.\\nBecker la estrechó.\\n—David Becker.\\n—Le felicito, señor Becker. Me han dicho que ha hecho un trabajo excelente.\\n¿Podríamos hablar al respecto?\\nBecker vaciló.\\n—La verdad es que tengo un poco de prisa.\\nConfiaba en que desdeñar a la agencia de inteligencia más poderosa del\\nmundo no sería una estupidez, pero su partido de squash empezaba dentro de tres\\ncuartos de hora, y tenía que cuidar su reputación: David Becker nunca llegaba\\ntarde al squash. A clase tal vez, pero al squash nunca.\\n—Seré breve —sonrió Susan Fletcher—. Sígame, por favor.\\nDiez minutos después, Becker estaba en la cantina de la NSA disfrutando de\\nun \\nmuffin\\n y zumo de arándanos en compañía de la encantadora jefa de\\nCriptografía. Pronto fue evidente para David que el cargo elevado de la mujer de\\ntreinta y ocho años no era fruto de la casualidad. Era una de las mujeres más\\ninteligentes que había conocido.\\nMientras hablaban de códigos y de desciframiento de los mismos, Becker se\\ndescubrió pugnando por no quedarse atrás, una experiencia nueva y emocionante\\npara él.\\nUna hora más tarde, después de que Becker se hubiera perdido el partido de\\nsquash, y Susan hubiera hecho caso omiso de las tres llamadas que recibió por el\\nintercomunicador, los dos no tuvieron más remedio que reír. Eran dos mentes\\nanalíticas, inmunes en teoría a encaprichamientos irracionales, pero de alguna\\nmanera, mientras hablaban de morfología lingüística y generadores de cifras\\nseudofortuitos, se sentían como un pareja de adolescentes enamorados.\\nSusan no llegó a revelar el verdadero motivo de que hubiera querido hablar\\ncon David Becker: ofrecerle un puesto a prueba en la División de Criptografía\\nAsiática. Estaba claro, a juzgar por la pasión con que hablaba de la enseñanza el\\njoven profesor, que nunca dejaría la universidad. Susan decidió no estropear la\\natmósfera cordial hablando de trabajo. Se sentía de nuevo como una colegiala.')]"
      ]
     },
     "execution_count": 11,
     "metadata": {},
     "output_type": "execute_result"
    }
   ],
   "source": [
    "to_rerank"
   ]
  },
  {
   "cell_type": "code",
   "execution_count": 12,
   "metadata": {},
   "outputs": [],
   "source": [
    "output = reranker.compute_score(to_rerank, normalize=True)"
   ]
  },
  {
   "cell_type": "code",
   "execution_count": 13,
   "metadata": {},
   "outputs": [
    {
     "data": {
      "text/plain": [
       "[0.43194357648165793,\n",
       " 0.982889110788156,\n",
       " 0.929823701560032,\n",
       " 0.9054895755643501,\n",
       " 0.9014011355313043]"
      ]
     },
     "execution_count": 13,
     "metadata": {},
     "output_type": "execute_result"
    }
   ],
   "source": [
    "output"
   ]
  },
  {
   "cell_type": "markdown",
   "metadata": {},
   "source": [
    "# Let's use cohere"
   ]
  },
  {
   "cell_type": "code",
   "execution_count": 24,
   "metadata": {},
   "outputs": [],
   "source": [
    "import cohere\n",
    "import os\n",
    "\n",
    "\n",
    "co = cohere.Client(api_key=os.getenv(\"COHERE_API_KEY\"))\n",
    "\n",
    "texts = [doc.page_content for doc in docs]\n",
    "\n",
    "results = co.rerank(model=\"rerank-multilingual-v3.0\", query=query, documents=texts, top_n=5)"
   ]
  },
  {
   "cell_type": "code",
   "execution_count": 25,
   "metadata": {},
   "outputs": [
    {
     "data": {
      "text/plain": [
       "[RerankResponseResultsItem(document=None, index=1, relevance_score=0.99987566),\n",
       " RerankResponseResultsItem(document=None, index=2, relevance_score=0.99647564),\n",
       " RerankResponseResultsItem(document=None, index=3, relevance_score=0.9927672),\n",
       " RerankResponseResultsItem(document=None, index=0, relevance_score=0.94407386),\n",
       " RerankResponseResultsItem(document=None, index=4, relevance_score=0.9339146)]"
      ]
     },
     "execution_count": 25,
     "metadata": {},
     "output_type": "execute_result"
    }
   ],
   "source": [
    "results.results"
   ]
  },
  {
   "cell_type": "code",
   "execution_count": 23,
   "metadata": {},
   "outputs": [
    {
     "name": "stdout",
     "output_type": "stream",
     "text": [
      "había tocado antes. No era el primer contacto que Hale había imaginado, pero ya\n",
      "era un principio. Le dirigió una mirada perpleja y regresó con parsimonia a su\n",
      "terminal. Mientras se sentaba, una cosa quedó muy clara: la encantadora Susan\n",
      "Fletcher estaba trabajando en algo importante, y seguro que no se trataba de un\n",
      "diagnóstico.\n",
      "--------------------\n",
      "Susan Fletcher, la criptógrafa estrella de la ultrasecreta Agencia de\n",
      "Seguridad Nacional (NSA) no puede dar crédito a sus oídos cuando su jefe,\n",
      "el subdirector de la Agencia, le informa de que han interceptado un código\n",
      "que ni siquiera la mayor supercomputadora conocida puede descifrar. La\n",
      "única pista para romper el letal código parece estar oculta en el cadáver de\n",
      "un hombre que ha fallecido en España, donde ha sido enviado David, el\n",
      "prometido de Susan. Mientras éste intenta hallar la clave y sobrevivir a la\n",
      "persecución de un metódico e implacable asesino a sueldo en las calles de\n",
      "Sevilla, Susan se enfrentará a su propio drama en las instalaciones de\n",
      "máxima seguridad de la NSA, durante una larga noche en la que la mentira\n",
      "y el asesinato acechan tras cada puerta.\n",
      "--------------------\n",
      "—Lo sé —se oyó gemir Susan.\n",
      "—Necesitamos su ayuda.\n",
      "Ella reprimió las lágrimas.\n",
      "—Strathmore… Él…\n",
      "—Lo sabemos —interrumpió Brinkerhoff—. Se saltó Manopla.\n",
      "—Sí, y…\n",
      "Las palabras se le atragantaron. \n",
      "¡Mató a David!\n",
      "Brinkerhoff apoyó una mano sobre su hombro.\n",
      "—Casi hemos llegado, señorita Fletcher. Resista.\n",
      "El carrito de golf Kensington de alta velocidad dobló una esquina y frenó. Al\n",
      "lado se extendía un pasillo perpendicular al túnel iluminado por luces rojas en el\n",
      "suelo.\n",
      "—Venga —dijo Brinkerhoff al tiempo que la ayudaba a bajar.\n",
      "La guió hasta el pasillo. Susan lo seguía envuelta en una niebla. El corredor\n",
      "embaldosado tenía una pendiente que se inclinaba de manera pronunciada. Susan\n",
      "se aferró a la barandilla y siguió a Brinkerhoff. El aire empezó a ser más frío.\n",
      "Continuaron bajando.\n",
      "A medida que se adentraban más en la tierra, el túnel se estrechaba. El eco de\n",
      "unos pasos sonó a sus espaldas, un paso fuerte y decidido. Los pasos aumentaron\n",
      "de intensidad. Tanto Brinkerhoff como Susan se volvieron a mirar.\n",
      "Un enorme negro caminaba hacia ellos. Susan no le había visto nunca.\n",
      "Cuando se acercó, le dirigió una mirada penetrante.\n",
      "—¿Quién es ésta? —preguntó.\n",
      "—Susan Fletcher —contestó Brinkerhoff.\n",
      "El enorme hombre arqueó las cejas. Aun cubierta de hollín y empapada,\n",
      "Susan Fletcher era más atractiva de lo que había imaginado.\n",
      "—¿Y el comandante? —preguntó.\n",
      "Brinkerhoff sacudió la cabeza.\n",
      "El hombre no dijo nada. Desvió la vista un momento. Después se volvió hacia\n",
      "Susan.\n",
      "—Leland Fontaine —dijo, y extendió la mano—. Me alegro de que esté bien.\n",
      "Susan le miró fijamente. Siempre había sabido que algún día conocería al\n",
      "director, pero no había imaginado que sería en circunstancias como ésas.\n",
      "—Acompáñeme, señorita Fletcher —dijo Fontaine—. Necesitamos toda la\n",
      "ayuda posible.\n",
      "Una pared de acero cortaba el paso al final del túnel. Fontaine se acercó y\n",
      "tecleó un código de entrada en una caja empotrada. Después apoyó la mano\n",
      "--------------------\n",
      "parecía distante hoy, pero sus mejillas exhibían una frescura rubicunda, y el pelo\n",
      "castaño rojizo, largo hasta los hombros, parecía recién secado. Detrás de ella\n",
      "flotaba en el aire la fragancia de jabón Johnson para bebés. La mirada del\n",
      "guarda se regodeó en su esbelto torso, la blusa blanca que transparentaba el\n",
      "sujetador, la falda caqui larga hasta las rodillas, y por fin sus piernas… Las\n",
      "piernas de Susan Fletcher.\n",
      "Cuesta imaginar que sostienen un Cociente de Inteligencia de 170\n",
      ", pensó para\n",
      "sí.\n",
      "La siguió con la mirada durante varios minutos. Por fin, meneó la cabeza\n",
      "cuando ella desapareció en la distancia.\n",
      "Cuando Susan llegó al final del túnel, una puerta circular, como la de una\n",
      "cámara acorazada, le cortó el paso. Las enormes letras anunciaban:\n",
      "CRIPTOGRAFÍA.\n",
      "Suspiró e introdujo la mano en el escáner empotrado en la pared y tecleó su\n",
      "número PIN de cinco dígitos. Segundos después, la hoja de acero de doce\n",
      "toneladas de peso empezó a girar. Intentó concentrarse, pero no podía quitárselo\n",
      "de la cabeza.\n",
      "David Becker. El único hombre al que había amado. El profesor más joven de\n",
      "la Universidad de Georgetown y brillante especialista en idiomas extranjeros,\n",
      "una celebridad en el mundo académico. Con memoria fotográfica innata y\n",
      "pasión por los idiomas, dominaba seis dialectos asiáticos, además del español,\n",
      "francés e italiano. Sus conferencias sobre etimología y lingüística llenaban a\n",
      "rebosar las aulas, y no se marchaba hasta haber contestado todas las preguntas.\n",
      "Hablaba con autoridad y entusiasmo, ignorando, en apariencia, las miradas\n",
      "adoradoras de sus alumnas.\n",
      "Becker, moreno y robusto, tenía treinta y cinco juveniles años, penetrantes\n",
      "ojos verdes e ingenio sin igual. Su mandíbula firme y facciones bien dibujadas\n",
      "recordaban a Susan una talla de mármol. A pesar de su metro ochenta y algo de\n",
      "estatura, Becker se movía en la pista de squash con más rapidez que cualquiera\n",
      "de sus colegas. Después de derrotar a sus contrincantes, se refrescaba mojándose\n",
      "la cabeza en un surtidor y empapando su tupida cabellera negra. A continuación,\n",
      "todavía goteando, invitaba a su oponente a un batido de frutas y un \n",
      "bagel\n",
      ".\n",
      "El sueldo de David —como era el caso de todos los profesores jóvenes— era\n",
      "modesto. De vez en cuando, si necesitaba renovar su carné del club de squash o\n",
      "cambiar las cuerdas de su vieja raqueta Dunlop, se ganaba un dinero extra\n",
      "haciendo traducciones para organismos gubernamentales de Washington y\n",
      "alrededores. Estaba realizando uno de esos encargos cuando conoció a Susan.\n",
      "Una fresca mañana de otoño, al regresar Becker, después de correr, a su\n",
      "apartamento de tres habitaciones de la facultad, la luz del contestador automático\n",
      "--------------------\n",
      "—¿Jefa?\n",
      "Becker lanzó una carcajada. Aún no había visto a ninguna mujer en la NSA.\n",
      "—¿Representa eso algún problema para usted? —preguntó una voz femenina\n",
      "tras él.\n",
      "Becker se volvió y enrojeció de inmediato. Echó un vistazo a la tarjeta de\n",
      "identificación prendida en la blusa de la mujer. La jefa de la División de\n",
      "Criptografía de la NSA no sólo era una mujer, sino que además era una mujer\n",
      "muy atractiva.\n",
      "—No —masculló Becker—. Es que…\n",
      "—Susan Fletcher.\n",
      "La mujer sonrió y extendió su fina mano.\n",
      "Becker la estrechó.\n",
      "—David Becker.\n",
      "—Le felicito, señor Becker. Me han dicho que ha hecho un trabajo excelente.\n",
      "¿Podríamos hablar al respecto?\n",
      "Becker vaciló.\n",
      "—La verdad es que tengo un poco de prisa.\n",
      "Confiaba en que desdeñar a la agencia de inteligencia más poderosa del\n",
      "mundo no sería una estupidez, pero su partido de squash empezaba dentro de tres\n",
      "cuartos de hora, y tenía que cuidar su reputación: David Becker nunca llegaba\n",
      "tarde al squash. A clase tal vez, pero al squash nunca.\n",
      "—Seré breve —sonrió Susan Fletcher—. Sígame, por favor.\n",
      "Diez minutos después, Becker estaba en la cantina de la NSA disfrutando de\n",
      "un \n",
      "muffin\n",
      " y zumo de arándanos en compañía de la encantadora jefa de\n",
      "Criptografía. Pronto fue evidente para David que el cargo elevado de la mujer de\n",
      "treinta y ocho años no era fruto de la casualidad. Era una de las mujeres más\n",
      "inteligentes que había conocido.\n",
      "Mientras hablaban de códigos y de desciframiento de los mismos, Becker se\n",
      "descubrió pugnando por no quedarse atrás, una experiencia nueva y emocionante\n",
      "para él.\n",
      "Una hora más tarde, después de que Becker se hubiera perdido el partido de\n",
      "squash, y Susan hubiera hecho caso omiso de las tres llamadas que recibió por el\n",
      "intercomunicador, los dos no tuvieron más remedio que reír. Eran dos mentes\n",
      "analíticas, inmunes en teoría a encaprichamientos irracionales, pero de alguna\n",
      "manera, mientras hablaban de morfología lingüística y generadores de cifras\n",
      "seudofortuitos, se sentían como un pareja de adolescentes enamorados.\n",
      "Susan no llegó a revelar el verdadero motivo de que hubiera querido hablar\n",
      "con David Becker: ofrecerle un puesto a prueba en la División de Criptografía\n",
      "Asiática. Estaba claro, a juzgar por la pasión con que hablaba de la enseñanza el\n",
      "joven profesor, que nunca dejaría la universidad. Susan decidió no estropear la\n",
      "atmósfera cordial hablando de trabajo. Se sentía de nuevo como una colegiala.\n",
      "--------------------\n"
     ]
    }
   ],
   "source": [
    "for t in texts:\n",
    "    print(t)\n",
    "    print(\"--\"*10)"
   ]
  },
  {
   "cell_type": "markdown",
   "metadata": {},
   "source": []
  }
 ],
 "metadata": {
  "kernelspec": {
   "display_name": ".venv",
   "language": "python",
   "name": "python3"
  },
  "language_info": {
   "codemirror_mode": {
    "name": "ipython",
    "version": 3
   },
   "file_extension": ".py",
   "mimetype": "text/x-python",
   "name": "python",
   "nbconvert_exporter": "python",
   "pygments_lexer": "ipython3",
   "version": "3.10.12"
  }
 },
 "nbformat": 4,
 "nbformat_minor": 2
}
