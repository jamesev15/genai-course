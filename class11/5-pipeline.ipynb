{
 "cells": [
  {
   "cell_type": "code",
   "execution_count": 1,
   "metadata": {},
   "outputs": [
    {
     "data": {
      "text/plain": [
       "True"
      ]
     },
     "execution_count": 1,
     "metadata": {},
     "output_type": "execute_result"
    }
   ],
   "source": [
    "from dotenv import load_dotenv\n",
    "\n",
    "load_dotenv()"
   ]
  },
  {
   "cell_type": "code",
   "execution_count": 2,
   "metadata": {},
   "outputs": [],
   "source": [
    "from langchain_openai import ChatOpenAI\n",
    "\n",
    "llm = ChatOpenAI(\n",
    "    model=\"gpt-4o\",\n",
    "    temperature=0,\n",
    ")"
   ]
  },
  {
   "cell_type": "markdown",
   "metadata": {},
   "source": [
    "# Take our fixed pipeline"
   ]
  },
  {
   "cell_type": "code",
   "execution_count": 3,
   "metadata": {},
   "outputs": [],
   "source": [
    "import os\n",
    "from langchain_qdrant import QdrantVectorStore\n",
    "from qdrant_client import QdrantClient\n",
    "from langchain_openai import OpenAIEmbeddings\n",
    "from langchain_core.runnables import RunnableLambda\n",
    "\n",
    "url = \"https://e7f4684c-fd33-4db0-b1d3-268870ecb84d.europe-west3-0.gcp.cloud.qdrant.io:6333\"\n",
    "api_key = os.getenv(\"QDRANT_API_KEY\")\n",
    "\n",
    "\n",
    "client = QdrantClient(\n",
    "    url=url,\n",
    "    api_key=api_key,\n",
    "    https=True,\n",
    "    timeout=300\n",
    ")\n",
    "\n",
    "vector_store_page = QdrantVectorStore(\n",
    "    client=client,\n",
    "    collection_name=\"db-book-page\",\n",
    "    embedding=OpenAIEmbeddings(model=\"text-embedding-ada-002\"),\n",
    ")"
   ]
  },
  {
   "cell_type": "code",
   "execution_count": null,
   "metadata": {},
   "outputs": [],
   "source": [
    "\n",
    "from typing_extensions import TypedDict\n",
    "from typing import Annotated\n",
    "from langchain_core.documents import Document\n",
    "from langchain_core.messages import AnyMessage\n",
    "from langchain_core.tools import tool, Tool\n",
    "\n",
    "\n",
    "def combine_documents(documents: list[Document]) -> str:\n",
    "    return \"\\n\\n\".join([document.page_content for document in documents])\n",
    "\n",
    "\n",
    "@tool\n",
    "def create_a_search_query(messages: list[AnyMessage]) -> str:\n",
    "    \"\"\"Based on the conversation creates a search query that serves for searching in a vector database\n",
    "    Arguments:\n",
    "        messages: conversation list\n",
    "    Returns:\n",
    "        search query: str\n",
    "    \"\"\"\n",
    "\n",
    "    REPHRASOR_SYSTEM_PROMPT = \"\"\"\\\n",
    "    Based on the conversation, your task is to create a \"search query\" that serves \\\n",
    "    as a query that can be used in a vector database to give most relevant information to answer the user's question.\n",
    "\n",
    "    Constrains:\n",
    "    - Create the search query only taking in account the conversation, avoid to add your knowledge.\n",
    "    \"\"\"\n",
    "\n",
    "    ai_answer = llm.invoke([(\"system\", REPHRASOR_SYSTEM_PROMPT)] + messages)\n",
    "\n",
    "    return ai_answer.content\n",
    "\n",
    "# search_query_tool = Tool.from_function(create_a_search_query)\n",
    "\n",
    "@tool\n",
    "def search_book_tool(query: str) -> str: #  Annotated[str, \"description\"]\n",
    "    \"\"\"Search tool that provides information about the book 'Fortaleza Digital'\n",
    "    Arguments:\n",
    "        query: string that is used for searching in a vector database\n",
    "    Returns:\n",
    "        context related to the query\n",
    "    \"\"\"\n",
    "\n",
    "    chain = vector_store_page.as_retriever(search_kwargs={\"k\": 5}) | RunnableLambda(combine_documents)\n",
    "    return chain.invoke(query)\n",
    "\n",
    "\n",
    "@tool\n",
    "def create_a_friendly_answer(answer: str) -> str:\n",
    "    \"\"\"...\"\"\"\n"
   ]
  },
  {
   "cell_type": "markdown",
   "metadata": {},
   "source": [
    "# Let's add as tools"
   ]
  },
  {
   "cell_type": "code",
   "execution_count": null,
   "metadata": {},
   "outputs": [],
   "source": [
    "from typing import Annotated\n",
    "\n",
    "from typing_extensions import TypedDict\n",
    "\n",
    "from langgraph.graph import StateGraph\n",
    "from langgraph.graph.message import MessagesState\n",
    "from langgraph.prebuilt import ToolNode, tools_condition\n",
    "\n",
    "\n",
    "graph_builder = StateGraph(MessagesState)\n",
    "\n",
    "tools = [create_a_search_query, search_book_tool]\n",
    "llm_with_tools = llm.bind_tools(tools)\n",
    "\n",
    "\n",
    "def chatbot(state: MessagesState):\n",
    "    system_message = \"siempre respondes de manera amigable, con emojis\"\n",
    "    return {\"messages\": [llm_with_tools.invoke(state[\"messages\"])]}\n",
    "\n",
    "\n",
    "graph_builder.add_node(\"chatbot\", chatbot)\n",
    "\n",
    "tool_node = ToolNode(tools=tools)\n",
    "graph_builder.add_node(\"tools\", tool_node)\n",
    "\n",
    "graph_builder.add_conditional_edges(\n",
    "    \"chatbot\",\n",
    "    tools_condition,\n",
    ")\n",
    "graph_builder.add_edge(\"tools\", \"chatbot\")\n",
    "graph_builder.set_entry_point(\"chatbot\")\n",
    "graph = graph_builder.compile()"
   ]
  },
  {
   "cell_type": "code",
   "execution_count": 8,
   "metadata": {},
   "outputs": [
    {
     "data": {
      "image/png": "[encoded data removed]",
      "text/plain": [
       "<langgraph.graph.state.CompiledStateGraph object at 0x14f4ba4d0>"
      ]
     },
     "execution_count": 8,
     "metadata": {},
     "output_type": "execute_result"
    }
   ],
   "source": [
    "graph"
   ]
  },
  {
   "cell_type": "code",
   "execution_count": 6,
   "metadata": {},
   "outputs": [],
   "source": [
    "result = graph.invoke({\"messages\": \"quien es susan fletcher en el libro fortaleza digital?\"})"
   ]
  },
  {
   "cell_type": "code",
   "execution_count": 7,
   "metadata": {},
   "outputs": [
    {
     "data": {
      "text/plain": [
       "{'messages': [HumanMessage(content='quien es susan fletcher en el libro fortaleza digital?', additional_kwargs={}, response_metadata={}, id='fbe7d477-8e00-4894-a1c3-a1834439c83d'),\n",
       "  AIMessage(content='', additional_kwargs={'tool_calls': [{'id': 'call_RBMDzNwZ7MRNUutN7oKAStIo', 'function': {'arguments': '{\"messages\":[{\"content\":\"quien es susan fletcher en el libro fortaleza digital?\",\"type\":\"human\"}]}', 'name': 'create_a_search_query'}, 'type': 'function'}], 'refusal': None}, response_metadata={'token_usage': {'completion_tokens': 38, 'prompt_tokens': 3067, 'total_tokens': 3105, 'completion_tokens_details': {'accepted_prediction_tokens': 0, 'audio_tokens': 0, 'reasoning_tokens': 0, 'rejected_prediction_tokens': 0}, 'prompt_tokens_details': {'audio_tokens': 0, 'cached_tokens': 0}}, 'model_name': 'gpt-4o-2024-08-06', 'system_fingerprint': 'fp_f9f4fb6dbf', 'finish_reason': 'tool_calls', 'logprobs': None}, id='run-49296be1-9627-4465-8876-3e8328a382ec-0', tool_calls=[{'name': 'create_a_search_query', 'args': {'messages': [{'content': 'quien es susan fletcher en el libro fortaleza digital?', 'type': 'human'}]}, 'id': 'call_RBMDzNwZ7MRNUutN7oKAStIo', 'type': 'tool_call'}], usage_metadata={'input_tokens': 3067, 'output_tokens': 38, 'total_tokens': 3105, 'input_token_details': {'audio': 0, 'cache_read': 0}, 'output_token_details': {'audio': 0, 'reasoning': 0}}),\n",
       "  ToolMessage(content='Susan Fletcher personaje libro Fortaleza Digital', name='create_a_search_query', id='6660c83b-2b8f-49df-ad45-d55c1d7adfb6', tool_call_id='call_RBMDzNwZ7MRNUutN7oKAStIo'),\n",
       "  AIMessage(content='', additional_kwargs={'tool_calls': [{'id': 'call_TcP6w05Gs00ILWefqqUgnG1O', 'function': {'arguments': '{\"query\":\"Susan Fletcher personaje libro Fortaleza Digital\"}', 'name': 'search_book_tool'}, 'type': 'function'}], 'refusal': None}, response_metadata={'token_usage': {'completion_tokens': 21, 'prompt_tokens': 3120, 'total_tokens': 3141, 'completion_tokens_details': {'accepted_prediction_tokens': 0, 'audio_tokens': 0, 'reasoning_tokens': 0, 'rejected_prediction_tokens': 0}, 'prompt_tokens_details': {'audio_tokens': 0, 'cached_tokens': 3072}}, 'model_name': 'gpt-4o-2024-08-06', 'system_fingerprint': 'fp_f9f4fb6dbf', 'finish_reason': 'tool_calls', 'logprobs': None}, id='run-9f1fe65a-6331-4f97-99d7-ecef8a9f4a90-0', tool_calls=[{'name': 'search_book_tool', 'args': {'query': 'Susan Fletcher personaje libro Fortaleza Digital'}, 'id': 'call_TcP6w05Gs00ILWefqqUgnG1O', 'type': 'tool_call'}], usage_metadata={'input_tokens': 3120, 'output_tokens': 21, 'total_tokens': 3141, 'input_token_details': {'audio': 0, 'cache_read': 3072}, 'output_token_details': {'audio': 0, 'reasoning': 0}}),\n",
       "  ToolMessage(content='Dan Brown\\nLa fortaleza digital\\n\\nSusan Fletcher, la criptógrafa estrella de la ultrasecreta Agencia de\\nSeguridad Nacional (NSA) no puede dar crédito a sus oídos cuando su jefe,\\nel subdirector de la Agencia, le informa de que han interceptado un código\\nque ni siquiera la mayor supercomputadora conocida puede descifrar. La\\núnica pista para romper el letal código parece estar oculta en el cadáver de\\nun hombre que ha fallecido en España, donde ha sido enviado David, el\\nprometido de Susan. Mientras éste intenta hallar la clave y sobrevivir a la\\npersecución de un metódico e implacable asesino a sueldo en las calles de\\nSevilla, Susan se enfrentará a su propio drama en las instalaciones de\\nmáxima seguridad de la NSA, durante una larga noche en la que la mentira\\ny el asesinato acechan tras cada puerta.\\n\\n15\\nSusan Fletcher estaba sentada ante su computador en Nodo 3, la zona de\\ntrabajo insonorizada de los criptógrafos, situada en un costado de la planta\\nprincipal. Una lámina de cristal curvo unidireccional de cinco centímetros de\\ngrosor proporcionaba a los criptógrafos una buena panorámica de todo el\\nDepartamento de Criptografía, al tiempo que impedía que cualquier persona\\npudiera ver el interior.\\nAl fondo de la gran sala de Nodo 3, doce terminales formaban un círculo\\nperfecto. La disposición en forma de anillo tenía como objetivo potenciar el\\nintercambio intelectual entre los criptógrafos, recordarles que formaban parte de\\nun equipo más amplio, algo así como los Caballeros de la Tabla Redonda, pero\\ndedicados a descifrar códigos. La ironía residía en que los secretos eran mal\\nvistos en Nodo 3.\\nNodo 3, apodado «el Corralito», estaba libre de la sensación de atmósfera\\nesterilizada del resto del Departamento de Criptografía. Había sido diseñado para\\nsentirse en casa: alfombras mullidas, sistema de sonido de alta tecnología, una\\nnevera bien pertrechada, una cocina, una cesta de baloncesto. La NSA mantenía\\nuna filosofía con respecto a Criptografía: no inviertas dos mil millones de dólares\\nen un computador para descifrar códigos sin seducir a la crema de la crema para\\nque lo utilicen.\\nSusan se quitó los zapatos planos marca Salvatore Ferragamo y hundió los\\npies enfundados en medias en la gruesa alfombra. Se aconsejaba a los\\nfuncionarios bien pagados del gobierno no hacer ostentación de riqueza personal.\\nEsto no solía representar ningún problema para Susan. Era muy feliz con su\\nmodesto dúplex, su sedán Volvo y su poco pretencioso vestuario, pero los zapatos\\neran otro asunto. Incluso cuando iba a la universidad, escogía los mejores.\\nNo \\npuedes saltar para alcanzar las estrellas si te duelen los pies\\n, le había dicho\\nsu tía una vez. \\n¡Y cuando llegues adonde vayas, más te vale presentar tu mejor\\naspecto!\\nSusan se permitió un sibarítico estirón y puso manos a la obra. Se preparó\\npara configurar su rastreador. Echó un vistazo a la dirección de correo\\nelectrónico que Strathmore le había dado\\nNDAKOTA@ara.anon.org\\nEl hombre que se hacía llamar Dakota del Norte tenía una cuenta anónima,\\npero Susan sabía que en poco tiempo dejaría de serlo. El rastreador sería recibido\\nen ARA, se redirigiría hacia Dakota del Norte y enviaría información que\\ncontendría la verdadera dirección de Internet del hombre.\\nSi todo iba bien, pronto localizaría a Dakota del Norte, y Strathmore\\n\\nNota del autor\\nPara \\nLa fortaleza digital\\n, mi primera novela, elegí como escenario mi ciudad\\neuropea preferida: la adorable Sevilla. Viví en ella un año entero, durante mi\\népoca de estudiante en la Universidad de Sevilla, en un piso de la plaza de Cuba.\\nDesde allí veía a los remeros del Guadalquivir y me encantaba. Durante aquel\\naño, me enamoré de la ciudad y sobre todo de su gente. De hecho, después he\\nregresado allí en otras cuatro ocasiones, que es más de lo que he vuelto a visitar\\nninguna otra ciudad de Europa. He llevado a mis padres y a mi familia a conocer\\nSevilla y hasta he aprendido a bailar sevillanas. De igual modo que mi ciudad\\nnatal en Estados Unidos, Sevilla tiene aspectos maravillosos y otros que no lo son\\ntanto. Como novelista, procuro destacar por igual los elementos negativos como\\nlos positivos para dotar de intensidad a la trama… Y lo hago con enorme pasión y\\namor hacia la tierra de España y los españoles.\\n\\n72\\nSusan Fletcher avanzó tambaleante por la planta de Criptografía hacia la\\npasarela que conducía a la oficina de Strathmore. El despacho del comandante\\nera el sitio donde más alejada de Hale podía estar dentro del recinto cerrado.\\nCuando llegó a lo alto de la escalera, descubrió que la puerta del despacho\\nestaba abierta, pues el corte de electricidad había anulado el cierre electrónico.\\nEntró.\\n—¿Comandante? —La única luz del interior era el resplandor de los monitores\\nde Strathmore—. ¡Comandante! —llamó—. ¡Comandante!\\nDe pronto recordó que el comandante estaba en el laboratorio de Sys-Sec.\\nCaminó en círculos por el despacho vacío, aun presa del pánico que le había\\nproducido su encuentro con Hale. Tenía que salir de Criptografía. Con fortaleza\\ndigital o no, había llegado el momento de actuar, de abortar \\nTransltr\\n y escapar.\\nEchó un vistazo a los monitores de Strathmore y después corrió hacia su\\nescritorio. Sus manos volaron sobre el teclado. \\n¡ABORTAR TRANSLTR!\\n La tarea\\nera sencilla, ahora que estaba en una terminal autorizada. Susan desplegó la\\nventana apropiada y tecleó:\\nABORTAR ANÁLISIS\\nSu dedo vaciló un momento sobre la tecla de ENTER.\\n—¡Susan! —rugió una voz desde la puerta. Ella se volvió asustada, temiendo\\nque fuera Hale. Pero se trataba de Strathmore. Se erguía, pálido y desencajado,\\na la luz mortecina. Respiraba con esfuerzo—. ¿Qué demonios está pasando?\\n—¡Comandante! —exclamó Susan—. ¡Hale está en Nodo 3! ¡Acaba de\\natacarme!\\n—¿Cómo? ¡Imposible! Hale está encerrado en…\\n—¡No! ¡Anda suelto! ¡Hemos de llamar a seguridad! ¡Voy a abortar \\nTransltr\\n!\\nSusan extendió la mano hacia el teclado.\\n—¡No toques eso!\\nStrathmore se precipitó hacia la terminal y apartó las manos de Susan.\\nElla retrocedió asustada. Miró al comandante y por segunda vez aquel día no\\nle reconoció. De pronto se sintió sola.\\nEl comandante vio sangre en la blusa de Susan y se arrepintió al instante de su\\nexabrupto.\\n—Dios mío. ¿Te encuentras bien?\\nElla no contestó.\\nStrathmore lamentó haber sido tan brusco con ella de manera innecesaria.', name='search_book_tool', id='692617f6-b690-48bd-846f-4b33438b7e2e', tool_call_id='call_TcP6w05Gs00ILWefqqUgnG1O'),\n",
       "  AIMessage(content='Susan Fletcher es la criptógrafa estrella de la ultrasecreta Agencia de Seguridad Nacional (NSA) en el libro \"Fortaleza Digital\" de Dan Brown. En la historia, se enfrenta a un código que ni siquiera la supercomputadora más avanzada puede descifrar. Mientras su prometido, David, busca una clave en España, Susan lidia con un drama en las instalaciones de la NSA, enfrentándose a mentiras y asesinatos. Es un personaje central que trabaja en un entorno de alta seguridad y se enfrenta a desafíos tanto profesionales como personales.', additional_kwargs={'refusal': None}, response_metadata={'token_usage': {'completion_tokens': 115, 'prompt_tokens': 4763, 'total_tokens': 4878, 'completion_tokens_details': {'accepted_prediction_tokens': 0, 'audio_tokens': 0, 'reasoning_tokens': 0, 'rejected_prediction_tokens': 0}, 'prompt_tokens_details': {'audio_tokens': 0, 'cached_tokens': 0}}, 'model_name': 'gpt-4o-2024-08-06', 'system_fingerprint': 'fp_f9f4fb6dbf', 'finish_reason': 'stop', 'logprobs': None}, id='run-8abb5d62-3624-42b0-8266-6099f5c6243b-0', usage_metadata={'input_tokens': 4763, 'output_tokens': 115, 'total_tokens': 4878, 'input_token_details': {'audio': 0, 'cache_read': 0}, 'output_token_details': {'audio': 0, 'reasoning': 0}})]}"
      ]
     },
     "execution_count": 7,
     "metadata": {},
     "output_type": "execute_result"
    }
   ],
   "source": [
    "result"
   ]
  },
  {
   "cell_type": "code",
   "execution_count": 9,
   "metadata": {},
   "outputs": [
    {
     "name": "stdout",
     "output_type": "stream",
     "text": [
      "================================\u001b[1m Human Message \u001b[0m=================================\n",
      "\n",
      "quien es susan fletcher en el libro fortaleza digital?\n",
      "==================================\u001b[1m Ai Message \u001b[0m==================================\n",
      "Tool Calls:\n",
      "  create_a_search_query (call_RBMDzNwZ7MRNUutN7oKAStIo)\n",
      " Call ID: call_RBMDzNwZ7MRNUutN7oKAStIo\n",
      "  Args:\n",
      "    messages: [{'content': 'quien es susan fletcher en el libro fortaleza digital?', 'type': 'human'}]\n",
      "=================================\u001b[1m Tool Message \u001b[0m=================================\n",
      "Name: create_a_search_query\n",
      "\n",
      "Susan Fletcher personaje libro Fortaleza Digital\n",
      "==================================\u001b[1m Ai Message \u001b[0m==================================\n",
      "Tool Calls:\n",
      "  search_book_tool (call_TcP6w05Gs00ILWefqqUgnG1O)\n",
      " Call ID: call_TcP6w05Gs00ILWefqqUgnG1O\n",
      "  Args:\n",
      "    query: Susan Fletcher personaje libro Fortaleza Digital\n",
      "=================================\u001b[1m Tool Message \u001b[0m=================================\n",
      "Name: search_book_tool\n",
      "\n",
      "Dan Brown\n",
      "La fortaleza digital\n",
      "\n",
      "Susan Fletcher, la criptógrafa estrella de la ultrasecreta Agencia de\n",
      "Seguridad Nacional (NSA) no puede dar crédito a sus oídos cuando su jefe,\n",
      "el subdirector de la Agencia, le informa de que han interceptado un código\n",
      "que ni siquiera la mayor supercomputadora conocida puede descifrar. La\n",
      "única pista para romper el letal código parece estar oculta en el cadáver de\n",
      "un hombre que ha fallecido en España, donde ha sido enviado David, el\n",
      "prometido de Susan. Mientras éste intenta hallar la clave y sobrevivir a la\n",
      "persecución de un metódico e implacable asesino a sueldo en las calles de\n",
      "Sevilla, Susan se enfrentará a su propio drama en las instalaciones de\n",
      "máxima seguridad de la NSA, durante una larga noche en la que la mentira\n",
      "y el asesinato acechan tras cada puerta.\n",
      "\n",
      "15\n",
      "Susan Fletcher estaba sentada ante su computador en Nodo 3, la zona de\n",
      "trabajo insonorizada de los criptógrafos, situada en un costado de la planta\n",
      "principal. Una lámina de cristal curvo unidireccional de cinco centímetros de\n",
      "grosor proporcionaba a los criptógrafos una buena panorámica de todo el\n",
      "Departamento de Criptografía, al tiempo que impedía que cualquier persona\n",
      "pudiera ver el interior.\n",
      "Al fondo de la gran sala de Nodo 3, doce terminales formaban un círculo\n",
      "perfecto. La disposición en forma de anillo tenía como objetivo potenciar el\n",
      "intercambio intelectual entre los criptógrafos, recordarles que formaban parte de\n",
      "un equipo más amplio, algo así como los Caballeros de la Tabla Redonda, pero\n",
      "dedicados a descifrar códigos. La ironía residía en que los secretos eran mal\n",
      "vistos en Nodo 3.\n",
      "Nodo 3, apodado «el Corralito», estaba libre de la sensación de atmósfera\n",
      "esterilizada del resto del Departamento de Criptografía. Había sido diseñado para\n",
      "sentirse en casa: alfombras mullidas, sistema de sonido de alta tecnología, una\n",
      "nevera bien pertrechada, una cocina, una cesta de baloncesto. La NSA mantenía\n",
      "una filosofía con respecto a Criptografía: no inviertas dos mil millones de dólares\n",
      "en un computador para descifrar códigos sin seducir a la crema de la crema para\n",
      "que lo utilicen.\n",
      "Susan se quitó los zapatos planos marca Salvatore Ferragamo y hundió los\n",
      "pies enfundados en medias en la gruesa alfombra. Se aconsejaba a los\n",
      "funcionarios bien pagados del gobierno no hacer ostentación de riqueza personal.\n",
      "Esto no solía representar ningún problema para Susan. Era muy feliz con su\n",
      "modesto dúplex, su sedán Volvo y su poco pretencioso vestuario, pero los zapatos\n",
      "eran otro asunto. Incluso cuando iba a la universidad, escogía los mejores.\n",
      "No \n",
      "puedes saltar para alcanzar las estrellas si te duelen los pies\n",
      ", le había dicho\n",
      "su tía una vez. \n",
      "¡Y cuando llegues adonde vayas, más te vale presentar tu mejor\n",
      "aspecto!\n",
      "Susan se permitió un sibarítico estirón y puso manos a la obra. Se preparó\n",
      "para configurar su rastreador. Echó un vistazo a la dirección de correo\n",
      "electrónico que Strathmore le había dado\n",
      "NDAKOTA@ara.anon.org\n",
      "El hombre que se hacía llamar Dakota del Norte tenía una cuenta anónima,\n",
      "pero Susan sabía que en poco tiempo dejaría de serlo. El rastreador sería recibido\n",
      "en ARA, se redirigiría hacia Dakota del Norte y enviaría información que\n",
      "contendría la verdadera dirección de Internet del hombre.\n",
      "Si todo iba bien, pronto localizaría a Dakota del Norte, y Strathmore\n",
      "\n",
      "Nota del autor\n",
      "Para \n",
      "La fortaleza digital\n",
      ", mi primera novela, elegí como escenario mi ciudad\n",
      "europea preferida: la adorable Sevilla. Viví en ella un año entero, durante mi\n",
      "época de estudiante en la Universidad de Sevilla, en un piso de la plaza de Cuba.\n",
      "Desde allí veía a los remeros del Guadalquivir y me encantaba. Durante aquel\n",
      "año, me enamoré de la ciudad y sobre todo de su gente. De hecho, después he\n",
      "regresado allí en otras cuatro ocasiones, que es más de lo que he vuelto a visitar\n",
      "ninguna otra ciudad de Europa. He llevado a mis padres y a mi familia a conocer\n",
      "Sevilla y hasta he aprendido a bailar sevillanas. De igual modo que mi ciudad\n",
      "natal en Estados Unidos, Sevilla tiene aspectos maravillosos y otros que no lo son\n",
      "tanto. Como novelista, procuro destacar por igual los elementos negativos como\n",
      "los positivos para dotar de intensidad a la trama… Y lo hago con enorme pasión y\n",
      "amor hacia la tierra de España y los españoles.\n",
      "\n",
      "72\n",
      "Susan Fletcher avanzó tambaleante por la planta de Criptografía hacia la\n",
      "pasarela que conducía a la oficina de Strathmore. El despacho del comandante\n",
      "era el sitio donde más alejada de Hale podía estar dentro del recinto cerrado.\n",
      "Cuando llegó a lo alto de la escalera, descubrió que la puerta del despacho\n",
      "estaba abierta, pues el corte de electricidad había anulado el cierre electrónico.\n",
      "Entró.\n",
      "—¿Comandante? —La única luz del interior era el resplandor de los monitores\n",
      "de Strathmore—. ¡Comandante! —llamó—. ¡Comandante!\n",
      "De pronto recordó que el comandante estaba en el laboratorio de Sys-Sec.\n",
      "Caminó en círculos por el despacho vacío, aun presa del pánico que le había\n",
      "producido su encuentro con Hale. Tenía que salir de Criptografía. Con fortaleza\n",
      "digital o no, había llegado el momento de actuar, de abortar \n",
      "Transltr\n",
      " y escapar.\n",
      "Echó un vistazo a los monitores de Strathmore y después corrió hacia su\n",
      "escritorio. Sus manos volaron sobre el teclado. \n",
      "¡ABORTAR TRANSLTR!\n",
      " La tarea\n",
      "era sencilla, ahora que estaba en una terminal autorizada. Susan desplegó la\n",
      "ventana apropiada y tecleó:\n",
      "ABORTAR ANÁLISIS\n",
      "Su dedo vaciló un momento sobre la tecla de ENTER.\n",
      "—¡Susan! —rugió una voz desde la puerta. Ella se volvió asustada, temiendo\n",
      "que fuera Hale. Pero se trataba de Strathmore. Se erguía, pálido y desencajado,\n",
      "a la luz mortecina. Respiraba con esfuerzo—. ¿Qué demonios está pasando?\n",
      "—¡Comandante! —exclamó Susan—. ¡Hale está en Nodo 3! ¡Acaba de\n",
      "atacarme!\n",
      "—¿Cómo? ¡Imposible! Hale está encerrado en…\n",
      "—¡No! ¡Anda suelto! ¡Hemos de llamar a seguridad! ¡Voy a abortar \n",
      "Transltr\n",
      "!\n",
      "Susan extendió la mano hacia el teclado.\n",
      "—¡No toques eso!\n",
      "Strathmore se precipitó hacia la terminal y apartó las manos de Susan.\n",
      "Ella retrocedió asustada. Miró al comandante y por segunda vez aquel día no\n",
      "le reconoció. De pronto se sintió sola.\n",
      "El comandante vio sangre en la blusa de Susan y se arrepintió al instante de su\n",
      "exabrupto.\n",
      "—Dios mío. ¿Te encuentras bien?\n",
      "Ella no contestó.\n",
      "Strathmore lamentó haber sido tan brusco con ella de manera innecesaria.\n",
      "==================================\u001b[1m Ai Message \u001b[0m==================================\n",
      "\n",
      "Susan Fletcher es la criptógrafa estrella de la ultrasecreta Agencia de Seguridad Nacional (NSA) en el libro \"Fortaleza Digital\" de Dan Brown. En la historia, se enfrenta a un código que ni siquiera la supercomputadora más avanzada puede descifrar. Mientras su prometido, David, busca una clave en España, Susan lidia con un drama en las instalaciones de la NSA, enfrentándose a mentiras y asesinatos. Es un personaje central que trabaja en un entorno de alta seguridad y se enfrenta a desafíos tanto profesionales como personales.\n"
     ]
    }
   ],
   "source": [
    "for m in result[\"messages\"]:\n",
    "    m.pretty_print()"
   ]
  },
  {
   "cell_type": "code",
   "execution_count": null,
   "metadata": {},
   "outputs": [],
   "source": []
  }
 ],
 "metadata": {
  "kernelspec": {
   "display_name": ".venv",
   "language": "python",
   "name": "python3"
  },
  "language_info": {
   "codemirror_mode": {
    "name": "ipython",
    "version": 3
   },
   "file_extension": ".py",
   "mimetype": "text/x-python",
   "name": "python",
   "nbconvert_exporter": "python",
   "pygments_lexer": "ipython3",
   "version": "3.10.12"
  }
 },
 "nbformat": 4,
 "nbformat_minor": 2
}
